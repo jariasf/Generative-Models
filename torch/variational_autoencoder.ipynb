{
 "cells": [
  {
   "cell_type": "markdown",
   "metadata": {},
   "source": [
    "**Author:** Jhosimar George Arias Figueroa"
   ]
  },
  {
   "cell_type": "code",
   "execution_count": 1,
   "metadata": {
    "collapsed": false
   },
   "outputs": [],
   "source": [
    "require \"nn\"\n",
    "require \"nngraph\"\n",
    "require \"optim\"\n",
    "require \"KLD_Gaussian_Criterion\"\n",
    "require \"image\""
   ]
  },
  {
   "cell_type": "markdown",
   "metadata": {},
   "source": [
    "### Load MNIST images "
   ]
  },
  {
   "cell_type": "code",
   "execution_count": 2,
   "metadata": {
    "collapsed": true
   },
   "outputs": [],
   "source": [
    "mnist = require \"mnist\""
   ]
  },
  {
   "cell_type": "code",
   "execution_count": 3,
   "metadata": {
    "collapsed": false
   },
   "outputs": [
    {
     "data": {
      "text/plain": [
       "Number of Samples: 60000. Feature Dimension: 784\t\n"
      ]
     },
     "execution_count": 3,
     "metadata": {},
     "output_type": "execute_result"
    }
   ],
   "source": [
    "train_data = mnist.traindataset().data:double():div(255) -- normalised [0, 1]\n",
    "n_samples = mnist.traindataset().size\n",
    "m_features = mnist.traindataset().data:size(2) * mnist.traindataset().data:size(3)\n",
    "print(\"Number of Samples: \".. n_samples .. \". Feature Dimension: \".. m_features)"
   ]
  },
  {
   "cell_type": "markdown",
   "metadata": {},
   "source": [
    "### Data Visualization"
   ]
  },
  {
   "cell_type": "code",
   "execution_count": 4,
   "metadata": {
    "collapsed": false
   },
   "outputs": [
    {
     "data": {
      "image/png": "[encoded data removed]",
      "text/plain": [
       "Console does not support images"
      ]
     },
     "metadata": {
      "image/png": {
       "height": 102,
       "width": 306
      }
     },
     "output_type": "display_data"
    },
    {
     "data": {
      "image/png": "[encoded data removed]",
      "text/plain": [
       "Console does not support images"
      ]
     },
     "metadata": {
      "image/png": {
       "height": 102,
       "width": 306
      }
     },
     "output_type": "display_data"
    },
    {
     "data": {
      "image/png": "[encoded data removed]",
      "text/plain": [
       "Console does not support images"
      ]
     },
     "metadata": {
      "image/png": {
       "height": 102,
       "width": 306
      }
     },
     "output_type": "display_data"
    }
   ],
   "source": [
    "scale = 100\n",
    "for i=1,9,3 do\n",
    "    itorch.image({image.scale(train_data[i],scale), \n",
    "                  image.scale(train_data[i+1],scale), \n",
    "                  image.scale(train_data[i+2],scale)})\n",
    "end"
   ]
  },
  {
   "cell_type": "markdown",
   "metadata": {},
   "source": [
    "### Variational Autoencoder\n",
    "Variational Autoencoder consist of an encoder, a decoder and a loss function.\n",
    "\n",
    "#### Encoder\n",
    "Encoder network receives as input the image representation, in case of MNIST dataset it is a 28x28 pixel image.\n",
    "The encoder *‘encodes’* the data which is 784-dimensional into a latent (hidden) representation space z, which is much less than 784 dimensions. \n",
    "\n",
    "In our class, the encoder calculates the mean and standard deviation of the gaussian which will produce the latent variable z.\n",
    "\n",
    "#### Decoder\n",
    "Decoder network receives as input the latent variable z. The decoder *‘decodes’* the real-valued numbers in z into 784 real-valued numbers between 0 and 1. Information is lost because it goes from a smaller to a larger dimensionality.\n",
    "\n",
    "#### Loss function\n",
    "The loss function of the variational autoencoder is the negative log-likelihood with a regularizer.\n",
    "\\begin{align}\n",
    "L^{\\tt{v}} & = \\mathbb{E}_{q(z|x^{(i)})}\\left( \\log\\left(p(x^{(i)}|z)\\right)\\right) - D_{\\tt{KL}} \\left( q(z|x^{(i)}) || p(z) \\right)&\\\\\n",
    "\\end{align}\n",
    "\n",
    "The first term is the reconstruction loss, or expected negative log-likelihood of the i-th datapoint. This term encourages the decoder to learn to reconstruct the data. If the decoder’s output does not reconstruct the data well, it will incur a large cost in this loss function.\n",
    "\n",
    "The second term is a regularizer. This is the Kullback-Leibler divergence between the encoder’s distribution q(z∣x) and p(z). This divergence measures how much information is lost when using q to represent p. It is one measure of how close q is to p."
   ]
  },
  {
   "cell_type": "code",
   "execution_count": 5,
   "metadata": {
    "collapsed": true
   },
   "outputs": [],
   "source": [
    "-- Resize data into 1D\n",
    "train_data = train_data:resize(train_data:size(1), train_data:size(2)*train_data:size(3))"
   ]
  },
  {
   "cell_type": "code",
   "execution_count": 6,
   "metadata": {
    "collapsed": false
   },
   "outputs": [],
   "source": [
    "do\n",
    "    local VAE = torch.class(\"VariationalAutoencoder\")\n",
    "    local BCE_criteria\n",
    "    local KLD_criteria\n",
    "    \n",
    "    -- VAE initialization\n",
    "    function VAE:__init(latent_dim)\n",
    "        BCE_criteria = nn.BCECriterion()\n",
    "        BCE_criteria.sizeAverage = false\n",
    "        KLD_criteria = nn.KLD_Gaussian_Criterion()\n",
    "        self.latent_dim = latent_dim\n",
    "    end\n",
    "    \n",
    "     -- Build a VAE from data X ( num_samples x num_features ) \n",
    "    function VAE:fit(X)\n",
    "        self.num_samples = X:size(1)\n",
    "        self.num_features = X:size(2)\n",
    "        self.data = X\n",
    "    end\n",
    "    \n",
    "    -- Encoder network\n",
    "    -- params: number of features, latent space dimension\n",
    "    -- input: data (num_samples x num_features )\n",
    "    -- output: mean and logarithm of variance\n",
    "    function get_encoder(num_features, latent_dim)\n",
    "        local input = - nn.Identity()\n",
    "        \n",
    "        local hidden_layer = input \n",
    "                    - nn.Linear(num_features, 400) - nn.ReLU(true) -- - nn.Tanh()\n",
    "                    - nn.Linear(400,200) - nn.ReLU(true) -- - nn.Tanh()\n",
    "        local W_mean = hidden_layer - nn.Linear(200, latent_dim)\n",
    "        local W_logVar = hidden_layer - nn.Linear(200, latent_dim)\n",
    "\n",
    "        local z_latent = {W_mean, W_logVar} - nn.Identity()\n",
    "\n",
    "        return nn.gModule({input}, {z_latent})\n",
    "    end\n",
    "    \n",
    "    -- Decoder network\n",
    "    -- params: number of features, latent space dimension\n",
    "    -- input: representation z obtained after reparametrization trick\n",
    "    -- output: reconstruction of initial data X\n",
    "    function get_decoder(num_features, latent_dim)\n",
    "        local input = - nn.Identity()\n",
    "\n",
    "        local generated = input\n",
    "                    - nn.Linear(latent_dim, 200)  - nn.ReLU(true) -- - nn.Tanh()\n",
    "                    - nn.Linear(200, 400) - nn.ReLU(true) -- - nn.Tanh()\n",
    "                    - nn.Linear(400, num_features) - nn.Sigmoid()\n",
    "\n",
    "        return nn.gModule({input} , {generated})\n",
    "    end\n",
    "    \n",
    "    -- Gaussian sampler\n",
    "    -- params: latent space dimension\n",
    "    -- input: mean, logarithm of variance from encoder and noise\n",
    "    -- output: gaussian sample based on reparametrization trick\n",
    "    function gaussian_sampler(latent_dim)\n",
    "\n",
    "        local z_latent = - nn.Identity()\n",
    "        local noise = - nn.Identity() \n",
    "        \n",
    "        local mean = z_latent - nn.SelectTable(1)\n",
    "        local logVar = z_latent - nn.SelectTable(2)\n",
    "                      \n",
    "        local sigma = logVar \n",
    "                            - nn.MulConstant(0.5) -- Compute 1/2 log σ^2 = log σ\n",
    "                            - nn.Exp() -- Compute σ\n",
    "        \n",
    "        local sigma_noise = {sigma, noise} - nn.CMulTable() -- Compute σε\n",
    "        \n",
    "        -- Reparametrization trick \n",
    "        -- N(z; μ, σI) = μ + σε\n",
    "        local sample = {mean, sigma_noise} - nn.CAddTable() - nn.View(-1, latent_dim)\n",
    "        \n",
    "        return nn.gModule({z_latent, noise}, {sample})\n",
    "    end\n",
    "    \n",
    "    -- VAE model\n",
    "    -- input: data and noise\n",
    "    -- output: reconstructed data, mean and logarithm of variance\n",
    "    function get_vae_model(self, num_features, latent_dim)\n",
    "        local input_data = - nn.Identity()\n",
    "        local input_noise = - nn.Identity()\n",
    "        \n",
    "        --Encoder: Calculate mean and std from input data\n",
    "        local encoder = input_data - get_encoder(num_features, latent_dim)\n",
    "        \n",
    "        --Sampler: Reparametrization trick - add gaussian noise\n",
    "        local z_sample = {encoder, input_noise} - gaussian_sampler(latent_dim)\n",
    "\n",
    "        --Decoder: Reconstruct data from latent sample z\n",
    "        self.decoder = get_decoder(num_features, latent_dim) -- used later for generation\n",
    "        local reconstruct = z_sample - self.decoder\n",
    "        \n",
    "        return nn.gModule({input_data, input_noise} , {reconstruct, encoder})\n",
    "    end\n",
    "    \n",
    "    --Function used in optim module for optimization\n",
    "    --Return loss obtained after forward and gradients after backward\n",
    "    function feval(x)\n",
    "\n",
    "        if x ~= params then\n",
    "            params:copy(x)\n",
    "        end\n",
    "\n",
    "        VAE_model:zeroGradParameters()\n",
    "        \n",
    "        local reconstructed, z_latent = table.unpack( VAE_model:forward({batch_data, batch_noise}) )\n",
    "\n",
    "        -- 1.) Reconstruction Cost = E[logP(y|x)] \n",
    "        -- Binary Cross entropy because we have binary values(0,1)\n",
    "        local reconstruction_loss = BCE_criteria:forward(reconstructed , batch_data)\n",
    "        local reconstruction_grad = BCE_criteria:backward(reconstructed , batch_data)\n",
    "\n",
    "        -- 2.) KL-divergence cost = KL(Q(z|x) || P(z)) P(z)~gaussian\n",
    "        local regularization_loss = KLD_criteria:forward(z_latent)\n",
    "        local regularization_grad = KLD_criteria:backward(z_latent)\n",
    "\n",
    "        local gradLoss = {reconstruction_grad, regularization_grad}\n",
    "        VAE_model:backward({batch_data, batch_noise}, gradLoss)\n",
    "        \n",
    "        -- Loss = Reconstruction loss + KL-divergence cost\n",
    "        local loss = reconstruction_loss + regularization_loss\n",
    "\n",
    "        return loss, gradParams\n",
    "        \n",
    "    end\n",
    "    \n",
    "    -- Train VAE\n",
    "    function VAE:train(batch_size, epochs, learning_rate, optimiser)\n",
    "        \n",
    "        VAE_model = get_vae_model(self,self.num_features, self.latent_dim)\n",
    "        params, gradParams = VAE_model:getParameters()\n",
    "    \n",
    "        -- Save loss per epoch\n",
    "        self.losses = {}\n",
    "        \n",
    "        -- Number of iterations\n",
    "        for epoch = 1,epochs do\n",
    "            \n",
    "            --Sample noise ε ~ N(0, 1)\n",
    "            local gaussian_noise = torch.randn(self.num_samples, self.latent_dim) \n",
    "            local indices_all = torch.randperm(self.num_samples):long()\n",
    "            local indices = indices_all:split(batch_size)\n",
    "            local Loss = 0.0\n",
    "            \n",
    "            -- Training in batches\n",
    "            for t,v in ipairs(indices) do\n",
    "                xlua.progress(t, #indices)\n",
    "                batch_data = self.data:index(1, v)\n",
    "                batch_noise = gaussian_noise:index(1,v)\n",
    "                __, loss = optim[optimiser](feval, params, {learningRate = learning_rate })\n",
    "                Loss = Loss + loss[1]\n",
    "            end\n",
    "            \n",
    "            print(\"Epoch: \" .. epoch .. \" Loss: \" .. Loss/batch_size )\n",
    "            self.losses[#self.losses + 1] = Loss\n",
    "        end\n",
    "    end\n",
    "    \n",
    "    -- Generate random data after training\n",
    "    function VAE:generate()\n",
    "        local noise = torch.randn(self.latent_dim):double()\n",
    "        return self.decoder:forward(noise)\n",
    "    end\n",
    "    \n",
    "    -- Reconstruct data\n",
    "    -- input: data with dimensions (1 x num_features)\n",
    "    -- output: reconstructed data (1 x num_features)\n",
    "    function VAE:reconstruct(x)\n",
    "        local noise = torch.randn(self.latent_dim):double()\n",
    "        local reconstructed, z_latent = table.unpack(VAE_model:forward({x, noise}))\n",
    "        return reconstructed\n",
    "    end\n",
    "    \n",
    "end\n"
   ]
  },
  {
   "cell_type": "markdown",
   "metadata": {
    "collapsed": false
   },
   "source": [
    "### Testing Variational Autoencoder"
   ]
  },
  {
   "cell_type": "code",
   "execution_count": 7,
   "metadata": {
    "collapsed": false
   },
   "outputs": [
    {
     "name": "stdout",
     "output_type": "stream",
     "text": [
      " [=====================================================================================>]                               \b\b\b\b\b\b\b\b\b\b\b\b\b\b\b\b\b\b\b\b\b\b\b\b\b\b\b\b\b\b Tot: 2m12s | Step: 221ms\b\b\b\b\b\b\b\b\b\b\b\b\b\b\b\b\b\b\b\b\b\b\b\b\b\b\b\b\b\b\b\b\b\b\b\b\b\b\b\b\b\b\b\b\b\b\b\b\b\b\b\b\b\b\b\b\b\b\b\b\b\b\b\b\b\b\b\b\b\b\b\b\b "
     ]
    },
    {
     "data": {
      "text/plain": [
       "Epoch: 1 Loss: 139075.07651604\t\n"
      ]
     },
     "execution_count": 7,
     "metadata": {},
     "output_type": "execute_result"
    },
    {
     "name": "stdout",
     "output_type": "stream",
     "text": [
      " [=====================================================================================>]                               \b\b\b\b\b\b\b\b\b\b\b\b\b\b\b\b\b\b\b\b\b\b\b\b\b\b\b\b\b\b Tot: 2m12s | Step: 223ms\b\b\b\b\b\b\b\b\b\b\b\b\b\b\b\b\b\b\b\b\b\b\b\b\b\b\b\b\b\b\b\b\b\b\b\b\b\b\b\b\b\b\b\b\b\b\b\b\b\b\b\b\b\b\b\b\b\b\b\b\b\b\b\b\b\b\b\b\b\b\b\b\b "
     ]
    },
    {
     "data": {
      "text/plain": [
       "Epoch: 2 Loss: 110235.16615668\t\n"
      ]
     },
     "execution_count": 7,
     "metadata": {},
     "output_type": "execute_result"
    },
    {
     "name": "stdout",
     "output_type": "stream",
     "text": [
      " [=====================================================================================>]                               \b\b\b\b\b\b\b\b\b\b\b\b\b\b\b\b\b\b\b\b\b\b\b\b\b\b\b\b\b\b Tot: 2m16s | Step: 229ms\b\b\b\b\b\b\b\b\b\b\b\b\b\b\b\b\b\b\b\b\b\b\b\b\b\b\b\b\b\b\b\b\b\b\b\b\b\b\b\b\b\b\b\b\b\b\b\b\b\b\b\b\b\b\b\b\b\b\b\b\b\b\b\b\b\b\b\b\b\b\b\b\b "
     ]
    },
    {
     "data": {
      "text/plain": [
       "Epoch: 3 Loss: 98869.396576357\t\n"
      ]
     },
     "execution_count": 7,
     "metadata": {},
     "output_type": "execute_result"
    },
    {
     "name": "stdout",
     "output_type": "stream",
     "text": [
      " [=====================================================================================>]                               \b\b\b\b\b\b\b\b\b\b\b\b\b\b\b\b\b\b\b\b\b\b\b\b\b\b\b\b\b\b Tot: 2m12s | Step: 223ms\b\b\b\b\b\b\b\b\b\b\b\b\b\b\b\b\b\b\b\b\b\b\b\b\b\b\b\b\b\b\b\b\b\b\b\b\b\b\b\b\b\b\b\b\b\b\b\b\b\b\b\b\b\b\b\b\b\b\b\b\b\b\b\b\b\b\b\b\b\b\b\b\b "
     ]
    },
    {
     "data": {
      "text/plain": [
       "Epoch: 4 Loss: 92765.902867028\t\n"
      ]
     },
     "execution_count": 7,
     "metadata": {},
     "output_type": "execute_result"
    },
    {
     "name": "stdout",
     "output_type": "stream",
     "text": [
      " [=====================================================================================>]                               \b\b\b\b\b\b\b\b\b\b\b\b\b\b\b\b\b\b\b\b\b\b\b\b\b\b\b\b\b\b Tot: 2m8s | Step: 215ms\b\b\b\b\b\b\b\b\b\b\b\b\b\b\b\b\b\b\b\b\b\b\b\b\b\b\b\b\b\b\b\b\b\b\b\b\b\b\b\b\b\b\b\b\b\b\b\b\b\b\b\b\b\b\b\b\b\b\b\b\b\b\b\b\b\b\b\b\b\b\b\b "
     ]
    },
    {
     "data": {
      "text/plain": [
       "Epoch: 5 Loss: 88923.598381069\t\n"
      ]
     },
     "execution_count": 7,
     "metadata": {},
     "output_type": "execute_result"
    },
    {
     "name": "stdout",
     "output_type": "stream",
     "text": [
      " [=====================================================================================>]                               \b\b\b\b\b\b\b\b\b\b\b\b\b\b\b\b\b\b\b\b\b\b\b\b\b\b\b\b\b\b Tot: 2m6s | Step: 212ms\b\b\b\b\b\b\b\b\b\b\b\b\b\b\b\b\b\b\b\b\b\b\b\b\b\b\b\b\b\b\b\b\b\b\b\b\b\b\b\b\b\b\b\b\b\b\b\b\b\b\b\b\b\b\b\b\b\b\b\b\b\b\b\b\b\b\b\b\b\b\b\b "
     ]
    },
    {
     "data": {
      "text/plain": [
       "Epoch: 6 Loss: 85725.552377524\t\n"
      ]
     },
     "execution_count": 7,
     "metadata": {},
     "output_type": "execute_result"
    },
    {
     "name": "stdout",
     "output_type": "stream",
     "text": [
      " [=====================================================================================>]                               \b\b\b\b\b\b\b\b\b\b\b\b\b\b\b\b\b\b\b\b\b\b\b\b\b\b\b\b\b\b Tot: 2m4s | Step: 210ms\b\b\b\b\b\b\b\b\b\b\b\b\b\b\b\b\b\b\b\b\b\b\b\b\b\b\b\b\b\b\b\b\b\b\b\b\b\b\b\b\b\b\b\b\b\b\b\b\b\b\b\b\b\b\b\b\b\b\b\b\b\b\b\b\b\b\b\b\b\b\b\b "
     ]
    },
    {
     "data": {
      "text/plain": [
       "Epoch: 7 Loss: 83256.456797647\t\n"
      ]
     },
     "execution_count": 7,
     "metadata": {},
     "output_type": "execute_result"
    },
    {
     "name": "stdout",
     "output_type": "stream",
     "text": [
      " [=====================================================================================>]                               \b\b\b\b\b\b\b\b\b\b\b\b\b\b\b\b\b\b\b\b\b\b\b\b\b\b\b\b\b\b Tot: 2m8s | Step: 216ms\b\b\b\b\b\b\b\b\b\b\b\b\b\b\b\b\b\b\b\b\b\b\b\b\b\b\b\b\b\b\b\b\b\b\b\b\b\b\b\b\b\b\b\b\b\b\b\b\b\b\b\b\b\b\b\b\b\b\b\b\b\b\b\b\b\b\b\b\b\b\b\b "
     ]
    },
    {
     "data": {
      "text/plain": [
       "Epoch: 8 Loss: 81270.528814717\t\n"
      ]
     },
     "execution_count": 7,
     "metadata": {},
     "output_type": "execute_result"
    },
    {
     "name": "stdout",
     "output_type": "stream",
     "text": [
      " [=====================================================================================>]                               \b\b\b\b\b\b\b\b\b\b\b\b\b\b\b\b\b\b\b\b\b\b\b\b\b\b\b\b\b\b Tot: 2m12s | Step: 222ms\b\b\b\b\b\b\b\b\b\b\b\b\b\b\b\b\b\b\b\b\b\b\b\b\b\b\b\b\b\b\b\b\b\b\b\b\b\b\b\b\b\b\b\b\b\b\b\b\b\b\b\b\b\b\b\b\b\b\b\b\b\b\b\b\b\b\b\b\b\b\b\b\b "
     ]
    },
    {
     "data": {
      "text/plain": [
       "Epoch: 9 Loss: 79710.150835261\t\n"
      ]
     },
     "execution_count": 7,
     "metadata": {},
     "output_type": "execute_result"
    },
    {
     "name": "stdout",
     "output_type": "stream",
     "text": [
      " [=====================================================================================>]                               \b\b\b\b\b\b\b\b\b\b\b\b\b\b\b\b\b\b\b\b\b\b\b\b\b\b\b\b\b\b Tot: 2m12s | Step: 223ms\b\b\b\b\b\b\b\b\b\b\b\b\b\b\b\b\b\b\b\b\b\b\b\b\b\b\b\b\b\b\b\b\b\b\b\b\b\b\b\b\b\b\b\b\b\b\b\b\b\b\b\b\b\b\b\b\b\b\b\b\b\b\b\b\b\b\b\b\b\b\b\b\b "
     ]
    },
    {
     "data": {
      "text/plain": [
       "Epoch: 10 Loss: 78394.11899518\t\n"
      ]
     },
     "execution_count": 7,
     "metadata": {},
     "output_type": "execute_result"
    },
    {
     "name": "stdout",
     "output_type": "stream",
     "text": [
      " [=====================================================================================>]                               \b\b\b\b\b\b\b\b\b\b\b\b\b\b\b\b\b\b\b\b\b\b\b\b\b\b\b\b\b\b Tot: 2m18s | Step: 233ms\b\b\b\b\b\b\b\b\b\b\b\b\b\b\b\b\b\b\b\b\b\b\b\b\b\b\b\b\b\b\b\b\b\b\b\b\b\b\b\b\b\b\b\b\b\b\b\b\b\b\b\b\b\b\b\b\b\b\b\b\b\b\b\b\b\b\b\b\b\b\b\b\b "
     ]
    },
    {
     "data": {
      "text/plain": [
       "Epoch: 11 Loss: 77284.88615\t\n"
      ]
     },
     "execution_count": 7,
     "metadata": {},
     "output_type": "execute_result"
    },
    {
     "name": "stdout",
     "output_type": "stream",
     "text": [
      " [=====================================================================================>]                               \b\b\b\b\b\b\b\b\b\b\b\b\b\b\b\b\b\b\b\b\b\b\b\b\b\b\b\b\b\b Tot: 2m24s | Step: 242ms\b\b\b\b\b\b\b\b\b\b\b\b\b\b\b\b\b\b\b\b\b\b\b\b\b\b\b\b\b\b\b\b\b\b\b\b\b\b\b\b\b\b\b\b\b\b\b\b\b\b\b\b\b\b\b\b\b\b\b\b\b\b\b\b\b\b\b\b\b\b\b\b\b "
     ]
    },
    {
     "data": {
      "text/plain": [
       "Epoch: 12 Loss: 76376.161395969\t\n"
      ]
     },
     "execution_count": 7,
     "metadata": {},
     "output_type": "execute_result"
    },
    {
     "name": "stdout",
     "output_type": "stream",
     "text": [
      " [=====================================================================================>]                               \b\b\b\b\b\b\b\b\b\b\b\b\b\b\b\b\b\b\b\b\b\b\b\b\b\b\b\b\b\b Tot: 2m30s | Step: 252ms\b\b\b\b\b\b\b\b\b\b\b\b\b\b\b\b\b\b\b\b\b\b\b\b\b\b\b\b\b\b\b\b\b\b\b\b\b\b\b\b\b\b\b\b\b\b\b\b\b\b\b\b\b\b\b\b\b\b\b\b\b\b\b\b\b\b\b\b\b\b\b\b\b "
     ]
    },
    {
     "data": {
      "text/plain": [
       "Epoch: 13 Loss: 75629.532381622\t\n"
      ]
     },
     "execution_count": 7,
     "metadata": {},
     "output_type": "execute_result"
    },
    {
     "name": "stdout",
     "output_type": "stream",
     "text": [
      " [=====================================================================================>]                               \b\b\b\b\b\b\b\b\b\b\b\b\b\b\b\b\b\b\b\b\b\b\b\b\b\b\b\b\b\b Tot: 2m24s | Step: 243ms\b\b\b\b\b\b\b\b\b\b\b\b\b\b\b\b\b\b\b\b\b\b\b\b\b\b\b\b\b\b\b\b\b\b\b\b\b\b\b\b\b\b\b\b\b\b\b\b\b\b\b\b\b\b\b\b\b\b\b\b\b\b\b\b\b\b\b\b\b\b\b\b\b "
     ]
    },
    {
     "data": {
      "text/plain": [
       "Epoch: 14 Loss: 74995.961981034\t\n"
      ]
     },
     "execution_count": 7,
     "metadata": {},
     "output_type": "execute_result"
    },
    {
     "name": "stdout",
     "output_type": "stream",
     "text": [
      " [=====================================================================================>]                               \b\b\b\b\b\b\b\b\b\b\b\b\b\b\b\b\b\b\b\b\b\b\b\b\b\b\b\b\b\b Tot: 2m12s | Step: 222ms\b\b\b\b\b\b\b\b\b\b\b\b\b\b\b\b\b\b\b\b\b\b\b\b\b\b\b\b\b\b\b\b\b\b\b\b\b\b\b\b\b\b\b\b\b\b\b\b\b\b\b\b\b\b\b\b\b\b\b\b\b\b\b\b\b\b\b\b\b\b\b\b\b "
     ]
    },
    {
     "data": {
      "text/plain": [
       "Epoch: 15 Loss: 74405.079902333\t\n"
      ]
     },
     "execution_count": 7,
     "metadata": {},
     "output_type": "execute_result"
    },
    {
     "name": "stdout",
     "output_type": "stream",
     "text": [
      " [=====================================================================================>]                               \b\b\b\b\b\b\b\b\b\b\b\b\b\b\b\b\b\b\b\b\b\b\b\b\b\b\b\b\b\b Tot: 2m5s | Step: 210ms\b\b\b\b\b\b\b\b\b\b\b\b\b\b\b\b\b\b\b\b\b\b\b\b\b\b\b\b\b\b\b\b\b\b\b\b\b\b\b\b\b\b\b\b\b\b\b\b\b\b\b\b\b\b\b\b\b\b\b\b\b\b\b\b\b\b\b\b\b\b\b\b "
     ]
    },
    {
     "data": {
      "text/plain": [
       "Epoch: 16 Loss: 73912.460915408\t\n"
      ]
     },
     "execution_count": 7,
     "metadata": {},
     "output_type": "execute_result"
    },
    {
     "name": "stdout",
     "output_type": "stream",
     "text": [
      " [=====================================================================================>]                               \b\b\b\b\b\b\b\b\b\b\b\b\b\b\b\b\b\b\b\b\b\b\b\b\b\b\b\b\b\b Tot: 2m10s | Step: 219ms\b\b\b\b\b\b\b\b\b\b\b\b\b\b\b\b\b\b\b\b\b\b\b\b\b\b\b\b\b\b\b\b\b\b\b\b\b\b\b\b\b\b\b\b\b\b\b\b\b\b\b\b\b\b\b\b\b\b\b\b\b\b\b\b\b\b\b\b\b\b\b\b\b "
     ]
    },
    {
     "data": {
      "text/plain": [
       "Epoch: 17 Loss: 73464.04338388\t\n"
      ]
     },
     "execution_count": 7,
     "metadata": {},
     "output_type": "execute_result"
    },
    {
     "name": "stdout",
     "output_type": "stream",
     "text": [
      " [=====================================================================================>]                               \b\b\b\b\b\b\b\b\b\b\b\b\b\b\b\b\b\b\b\b\b\b\b\b\b\b\b\b\b\b Tot: 2m7s | Step: 215ms\b\b\b\b\b\b\b\b\b\b\b\b\b\b\b\b\b\b\b\b\b\b\b\b\b\b\b\b\b\b\b\b\b\b\b\b\b\b\b\b\b\b\b\b\b\b\b\b\b\b\b\b\b\b\b\b\b\b\b\b\b\b\b\b\b\b\b\b\b\b\b\b "
     ]
    },
    {
     "data": {
      "text/plain": [
       "Epoch: 18 Loss: 73064.987214809\t\n"
      ]
     },
     "execution_count": 7,
     "metadata": {},
     "output_type": "execute_result"
    },
    {
     "name": "stdout",
     "output_type": "stream",
     "text": [
      " [=====================================================================================>]                               \b\b\b\b\b\b\b\b\b\b\b\b\b\b\b\b\b\b\b\b\b\b\b\b\b\b\b\b\b\b Tot: 2m11s | Step: 220ms\b\b\b\b\b\b\b\b\b\b\b\b\b\b\b\b\b\b\b\b\b\b\b\b\b\b\b\b\b\b\b\b\b\b\b\b\b\b\b\b\b\b\b\b\b\b\b\b\b\b\b\b\b\b\b\b\b\b\b\b\b\b\b\b\b\b\b\b\b\b\b\b\b "
     ]
    },
    {
     "data": {
      "text/plain": [
       "Epoch: 19 Loss: 72706.798235085\t\n"
      ]
     },
     "execution_count": 7,
     "metadata": {},
     "output_type": "execute_result"
    },
    {
     "name": "stdout",
     "output_type": "stream",
     "text": [
      " [=====================================================================================>]                               \b\b\b\b\b\b\b\b\b\b\b\b\b\b\b\b\b\b\b\b\b\b\b\b\b\b\b\b\b\b Tot: 2m12s | Step: 222ms\b\b\b\b\b\b\b\b\b\b\b\b\b\b\b\b\b\b\b\b\b\b\b\b\b\b\b\b\b\b\b\b\b\b\b\b\b\b\b\b\b\b\b\b\b\b\b\b\b\b\b\b\b\b\b\b\b\b\b\b\b\b\b\b\b\b\b\b\b\b\b\b\b "
     ]
    },
    {
     "data": {
      "text/plain": [
       "Epoch: 20 Loss: 72378.947744387\t\n"
      ]
     },
     "execution_count": 7,
     "metadata": {},
     "output_type": "execute_result"
    }
   ],
   "source": [
    "-- VAE Instantiation\n",
    "VAE = VariationalAutoencoder(20)\n",
    "\n",
    "-- Use MNIST dataset\n",
    "VAE:fit(train_data)\n",
    "\n",
    "--VAE:generate()\n",
    "-- Train VAE (batch_size, epochs, learning_rate, optimizer)\n",
    "VAE:train(100, 20, 0.0001, \"adam\")"
   ]
  },
  {
   "cell_type": "markdown",
   "metadata": {},
   "source": [
    "#### Plot - Epoch vs Loss"
   ]
  },
  {
   "cell_type": "code",
   "execution_count": 8,
   "metadata": {
    "collapsed": false
   },
   "outputs": [
    {
     "data": {
      "text/html": [
       "<script type=\"text/javascript\">\n",
       "$(function() {\n",
       "    if (typeof (window._bokeh_onload_callbacks) === \"undefined\"){\n",
       "  window._bokeh_onload_callbacks = [];\n",
       "    }\n",
       "    function load_lib(url, callback){\n",
       "  window._bokeh_onload_callbacks.push(callback);\n",
       "  if (window._bokeh_is_loading){\n",
       "      console.log(\"Bokeh: BokehJS is being loaded, scheduling callback at\", new Date());\n",
       "      return null;\n",
       "  }\n",
       "  console.log(\"Bokeh: BokehJS not loaded, scheduling load and callback at\", new Date());\n",
       "  window._bokeh_is_loading = true;\n",
       "  var s = document.createElement('script');\n",
       "  s.src = url;\n",
       "  s.async = true;\n",
       "  s.onreadystatechange = s.onload = function(){\n",
       "      Bokeh.embed.inject_css(\"https://cdn.pydata.org/bokeh-0.7.0.min.css\");\n",
       "      window._bokeh_onload_callbacks.forEach(function(callback){callback()});\n",
       "  };\n",
       "  s.onerror = function(){\n",
       "      console.warn(\"failed to load library \" + url);\n",
       "  };\n",
       "  document.getElementsByTagName(\"head\")[0].appendChild(s);\n",
       "    }\n",
       "\n",
       "    bokehjs_url = \"https://cdn.pydata.org/bokeh-0.7.0.min.js\"\n",
       "\n",
       "    var elt = document.getElementById(\"f96ed112-c60b-41da-c1e3-b1532cecbf2f\");\n",
       "    if(elt==null) {\n",
       "  console.log(\"Bokeh: ERROR: autoload.js configured with elementid 'f96ed112-c60b-41da-c1e3-b1532cecbf2f'\"\n",
       "        + \"but no matching script tag was found. \")\n",
       "  return false;\n",
       "    }\n",
       "\n",
       "    if(typeof(Bokeh) !== \"undefined\") {\n",
       "  console.log(\"Bokeh: BokehJS loaded, going straight to plotting\");\n",
       "  var modelid = \"d65cbc11-f629-4c2d-cc04-125aa89d6d88\";\n",
       "  var modeltype = \"Plot\";\n",
       "  var all_models = [{\"id\":\"a44a8494-16b5-4fb8-cf42-04922a3e7ddc\",\"type\":\"ColumnDataSource\",\"attributes\":{\"data\":{\"y\":[13907507.651604,11023516.615668,9886939.6576357,9276590.2867028,8892359.8381069,8572555.2377524,8325645.6797647,8127052.8814717,7971015.0835261,7839411.899518,7728488.615,7637616.1395969,7562953.2381622,7499596.1981034,7440507.9902333,7391246.0915408,7346404.338388,7306498.7214809,7270679.8235085,7237894.7744387],\"x\":[-1,0.15789473684211,1.3157894736842,2.4736842105263,3.6315789473684,4.7894736842105,5.9473684210526,7.1052631578947,8.2631578947368,9.4210526315789,10.578947368421,11.736842105263,12.894736842105,14.052631578947,15.210526315789,16.368421052632,17.526315789474,18.684210526316,19.842105263158,21]},\"column_names\":[\"y\",\"x\"],\"cont_ranges\":{},\"discrete_ranges\":{},\"selected\":[],\"id\":\"a44a8494-16b5-4fb8-cf42-04922a3e7ddc\",\"doc\":null,\"tags\":[]}},{\"id\":\"59eb4bbe-e5c6-4ea2-cead-62fcb2abf181\",\"type\":\"Line\",\"attributes\":{\"fill_alpha\":{\"units\":\"data\",\"value\":0.2},\"line_alpha\":{\"units\":\"data\",\"value\":1},\"doc\":null,\"size\":{\"units\":\"screen\",\"value\":10},\"fill_color\":{\"value\":\"blue\"},\"line_color\":{\"value\":\"blue\"},\"x\":{\"units\":\"data\",\"field\":\"x\"},\"id\":\"59eb4bbe-e5c6-4ea2-cead-62fcb2abf181\",\"y\":{\"units\":\"data\",\"field\":\"y\"},\"tags\":[]}},{\"id\":\"1997ab99-cc92-4a93-cae1-0cfe866b4e94\",\"type\":\"Line\",\"attributes\":{\"fill_alpha\":{\"units\":\"data\",\"value\":0.2},\"line_alpha\":{\"units\":\"data\",\"value\":1},\"doc\":null,\"size\":{\"units\":\"screen\",\"value\":10},\"fill_color\":{\"value\":\"blue\"},\"line_color\":{\"value\":\"blue\"},\"x\":{\"units\":\"data\",\"field\":\"x\"},\"id\":\"1997ab99-cc92-4a93-cae1-0cfe866b4e94\",\"y\":{\"units\":\"data\",\"field\":\"y\"},\"tags\":[]}},{\"id\":\"3ce0256a-7ff6-4ee3-ceb4-2371fa635f8b\",\"type\":\"GlyphRenderer\",\"attributes\":{\"name\":null,\"nonselection_glyph\":{\"type\":\"Line\",\"id\":\"1997ab99-cc92-4a93-cae1-0cfe866b4e94\"},\"doc\":null,\"server_data_source\":null,\"data_source\":{\"type\":\"ColumnDataSource\",\"id\":\"a44a8494-16b5-4fb8-cf42-04922a3e7ddc\"},\"glyph\":{\"type\":\"Line\",\"id\":\"59eb4bbe-e5c6-4ea2-cead-62fcb2abf181\"},\"selection_glyph\":null,\"id\":\"3ce0256a-7ff6-4ee3-ceb4-2371fa635f8b\",\"tags\":[]}},{\"id\":\"d9aa5789-797d-48c9-c879-38f546308841\",\"type\":\"DataRange1d\",\"attributes\":{\"sources\":[{\"columns\":[\"x\"],\"source\":{\"type\":\"ColumnDataSource\",\"id\":\"a44a8494-16b5-4fb8-cf42-04922a3e7ddc\"}}],\"id\":\"d9aa5789-797d-48c9-c879-38f546308841\",\"tags\":[],\"doc\":null}},{\"id\":\"901d8a57-d508-4e63-ceb3-a6769ec31120\",\"type\":\"DataRange1d\",\"attributes\":{\"sources\":[{\"columns\":[\"y\"],\"source\":{\"type\":\"ColumnDataSource\",\"id\":\"a44a8494-16b5-4fb8-cf42-04922a3e7ddc\"}}],\"id\":\"901d8a57-d508-4e63-ceb3-a6769ec31120\",\"tags\":[],\"doc\":null}},{\"id\":\"02149e24-970a-454e-c59e-a07fb6e3d7c7\",\"type\":\"ToolEvents\",\"attributes\":{\"tags\":[],\"id\":\"02149e24-970a-454e-c59e-a07fb6e3d7c7\",\"geometries\":[],\"doc\":null}},{\"id\":\"6e9410b8-f502-4c6d-ccaa-6483d24ea436\",\"type\":\"BasicTickFormatter\",\"attributes\":{\"id\":\"6e9410b8-f502-4c6d-ccaa-6483d24ea436\",\"tags\":[],\"doc\":null}},{\"id\":\"9d86e49d-7442-4127-c1ef-fdfdc2fe664a\",\"type\":\"BasicTicker\",\"attributes\":{\"num_minor_ticks\":5,\"id\":\"9d86e49d-7442-4127-c1ef-fdfdc2fe664a\",\"tags\":[],\"doc\":null}},{\"id\":\"7d852a49-fd35-4cc6-cc38-713d0d23be30\",\"type\":\"LinearAxis\",\"attributes\":{\"formatter\":{\"type\":\"BasicTickFormatter\",\"id\":\"6e9410b8-f502-4c6d-ccaa-6483d24ea436\"},\"ticker\":{\"type\":\"BasicTicker\",\"id\":\"9d86e49d-7442-4127-c1ef-fdfdc2fe664a\"},\"plot\":{\"id\":\"d65cbc11-f629-4c2d-cc04-125aa89d6d88\",\"type\":\"Plot\",\"subtype\":\"Figure\"},\"axis_label\":\"epoch #\",\"id\":\"7d852a49-fd35-4cc6-cc38-713d0d23be30\",\"doc\":null,\"tags\":[]}},{\"id\":\"8aadff0a-0852-4fd8-cfc3-aecd34e309dd\",\"type\":\"Grid\",\"attributes\":{\"dimension\":0,\"plot\":{\"id\":\"d65cbc11-f629-4c2d-cc04-125aa89d6d88\",\"type\":\"Plot\",\"subtype\":\"Figure\"},\"ticker\":{\"type\":\"BasicTicker\",\"id\":\"9d86e49d-7442-4127-c1ef-fdfdc2fe664a\"},\"id\":\"8aadff0a-0852-4fd8-cfc3-aecd34e309dd\",\"doc\":null,\"tags\":[]}},{\"id\":\"8110a632-ecaa-460f-c6e9-eb8ab967bdef\",\"type\":\"BasicTickFormatter\",\"attributes\":{\"id\":\"8110a632-ecaa-460f-c6e9-eb8ab967bdef\",\"tags\":[],\"doc\":null}},{\"id\":\"4b1341e6-e017-4481-c438-3b012922bced\",\"type\":\"BasicTicker\",\"attributes\":{\"num_minor_ticks\":5,\"id\":\"4b1341e6-e017-4481-c438-3b012922bced\",\"tags\":[],\"doc\":null}},{\"id\":\"c8548b08-60e0-4f8d-cfbe-7edd6499e07d\",\"type\":\"LinearAxis\",\"attributes\":{\"formatter\":{\"type\":\"BasicTickFormatter\",\"id\":\"8110a632-ecaa-460f-c6e9-eb8ab967bdef\"},\"ticker\":{\"type\":\"BasicTicker\",\"id\":\"4b1341e6-e017-4481-c438-3b012922bced\"},\"plot\":{\"id\":\"d65cbc11-f629-4c2d-cc04-125aa89d6d88\",\"type\":\"Plot\",\"subtype\":\"Figure\"},\"axis_label\":\"loss\",\"id\":\"c8548b08-60e0-4f8d-cfbe-7edd6499e07d\",\"doc\":null,\"tags\":[]}},{\"id\":\"c4089ba9-b99b-4d73-cdaa-59f1c74c770a\",\"type\":\"Grid\",\"attributes\":{\"dimension\":1,\"plot\":{\"id\":\"d65cbc11-f629-4c2d-cc04-125aa89d6d88\",\"type\":\"Plot\",\"subtype\":\"Figure\"},\"ticker\":{\"type\":\"BasicTicker\",\"id\":\"4b1341e6-e017-4481-c438-3b012922bced\"},\"id\":\"c4089ba9-b99b-4d73-cdaa-59f1c74c770a\",\"doc\":null,\"tags\":[]}},{\"id\":\"b2570b5e-defc-4261-c2c9-89f86377aebe\",\"type\":\"PanTool\",\"attributes\":{\"plot\":{\"id\":\"d65cbc11-f629-4c2d-cc04-125aa89d6d88\",\"type\":\"Plot\",\"subtype\":\"Figure\"},\"dimensions\":[\"width\",\"height\"],\"id\":\"b2570b5e-defc-4261-c2c9-89f86377aebe\",\"doc\":null,\"tags\":[]}},{\"id\":\"17e53ca0-bebc-482d-c8d4-7059ca9e3eb4\",\"type\":\"WheelZoomTool\",\"attributes\":{\"plot\":{\"id\":\"d65cbc11-f629-4c2d-cc04-125aa89d6d88\",\"type\":\"Plot\",\"subtype\":\"Figure\"},\"dimensions\":[\"width\",\"height\"],\"id\":\"17e53ca0-bebc-482d-c8d4-7059ca9e3eb4\",\"doc\":null,\"tags\":[]}},{\"id\":\"994f4217-746c-481c-c82e-c7174987064d\",\"type\":\"BoxZoomTool\",\"attributes\":{\"plot\":{\"id\":\"d65cbc11-f629-4c2d-cc04-125aa89d6d88\",\"type\":\"Plot\",\"subtype\":\"Figure\"},\"id\":\"994f4217-746c-481c-c82e-c7174987064d\",\"tags\":[],\"doc\":null}},{\"id\":\"b955cb7f-42d7-426a-c267-b1f5811c3e3f\",\"type\":\"PreviewSaveTool\",\"attributes\":{\"plot\":{\"id\":\"d65cbc11-f629-4c2d-cc04-125aa89d6d88\",\"type\":\"Plot\",\"subtype\":\"Figure\"},\"id\":\"b955cb7f-42d7-426a-c267-b1f5811c3e3f\",\"tags\":[],\"doc\":null}},{\"id\":\"f85aab52-447a-4562-c5a2-9f782acc2102\",\"type\":\"ResizeTool\",\"attributes\":{\"plot\":{\"id\":\"d65cbc11-f629-4c2d-cc04-125aa89d6d88\",\"type\":\"Plot\",\"subtype\":\"Figure\"},\"id\":\"f85aab52-447a-4562-c5a2-9f782acc2102\",\"tags\":[],\"doc\":null}},{\"id\":\"59f31695-5a53-4f8a-cffd-1e11cfce034d\",\"type\":\"ResetTool\",\"attributes\":{\"plot\":{\"id\":\"d65cbc11-f629-4c2d-cc04-125aa89d6d88\",\"type\":\"Plot\",\"subtype\":\"Figure\"},\"id\":\"59f31695-5a53-4f8a-cffd-1e11cfce034d\",\"tags\":[],\"doc\":null}},{\"id\":\"0bad5120-ff3d-416d-c1b7-bba69aa54e0e\",\"type\":\"Legend\",\"attributes\":{\"plot\":{\"id\":\"d65cbc11-f629-4c2d-cc04-125aa89d6d88\",\"type\":\"Plot\",\"subtype\":\"Figure\"},\"legends\":[[\"loss\",[{\"type\":\"GlyphRenderer\",\"id\":\"3ce0256a-7ff6-4ee3-ceb4-2371fa635f8b\"}]]],\"id\":\"0bad5120-ff3d-416d-c1b7-bba69aa54e0e\",\"doc\":null,\"tags\":[]}},{\"id\":\"d65cbc11-f629-4c2d-cc04-125aa89d6d88\",\"type\":\"Plot\",\"attributes\":{\"x_range\":{\"type\":\"DataRange1d\",\"id\":\"d9aa5789-797d-48c9-c879-38f546308841\"},\"tool_events\":{\"type\":\"ToolEvents\",\"id\":\"02149e24-970a-454e-c59e-a07fb6e3d7c7\"},\"below\":[{\"type\":\"LinearAxis\",\"id\":\"7d852a49-fd35-4cc6-cc38-713d0d23be30\"}],\"renderers\":[{\"type\":\"GlyphRenderer\",\"id\":\"3ce0256a-7ff6-4ee3-ceb4-2371fa635f8b\"},{\"type\":\"LinearAxis\",\"id\":\"7d852a49-fd35-4cc6-cc38-713d0d23be30\"},{\"type\":\"Grid\",\"id\":\"8aadff0a-0852-4fd8-cfc3-aecd34e309dd\"},{\"type\":\"LinearAxis\",\"id\":\"c8548b08-60e0-4f8d-cfbe-7edd6499e07d\"},{\"type\":\"Grid\",\"id\":\"c4089ba9-b99b-4d73-cdaa-59f1c74c770a\"},{\"type\":\"Legend\",\"id\":\"0bad5120-ff3d-416d-c1b7-bba69aa54e0e\"}],\"above\":[],\"tools\":[{\"type\":\"PanTool\",\"id\":\"b2570b5e-defc-4261-c2c9-89f86377aebe\"},{\"type\":\"WheelZoomTool\",\"id\":\"17e53ca0-bebc-482d-c8d4-7059ca9e3eb4\"},{\"type\":\"BoxZoomTool\",\"id\":\"994f4217-746c-481c-c82e-c7174987064d\"},{\"type\":\"PreviewSaveTool\",\"id\":\"b955cb7f-42d7-426a-c267-b1f5811c3e3f\"},{\"type\":\"ResizeTool\",\"id\":\"f85aab52-447a-4562-c5a2-9f782acc2102\"},{\"type\":\"ResetTool\",\"id\":\"59f31695-5a53-4f8a-cffd-1e11cfce034d\"}],\"doc\":null,\"right\":[],\"title\":\"Training Loss\",\"extra_x_ranges\":{},\"left\":[{\"type\":\"LinearAxis\",\"id\":\"c8548b08-60e0-4f8d-cfbe-7edd6499e07d\"}],\"y_range\":{\"type\":\"DataRange1d\",\"id\":\"901d8a57-d508-4e63-ceb3-a6769ec31120\"},\"id\":\"d65cbc11-f629-4c2d-cc04-125aa89d6d88\",\"extra_y_ranges\":{},\"tags\":[]}}];\n",
       "  Bokeh.load_models(all_models);\n",
       "  var model = Bokeh.Collections(modeltype).get(modelid);\n",
       "  $(\"#f96ed112-c60b-41da-c1e3-b1532cecbf2f\").html(''); // clear any previous plot in window_id\n",
       "  var view = new model.default_view({model: model, el: \"#f96ed112-c60b-41da-c1e3-b1532cecbf2f\"});\n",
       "    } else {\n",
       "  load_lib(bokehjs_url, function() {\n",
       "      console.log(\"Bokeh: BokehJS plotting callback run at\", new Date())\n",
       "      var modelid = \"d65cbc11-f629-4c2d-cc04-125aa89d6d88\";\n",
       "      var modeltype = \"Plot\";\n",
       "      var all_models = [{\"id\":\"a44a8494-16b5-4fb8-cf42-04922a3e7ddc\",\"type\":\"ColumnDataSource\",\"attributes\":{\"data\":{\"y\":[13907507.651604,11023516.615668,9886939.6576357,9276590.2867028,8892359.8381069,8572555.2377524,8325645.6797647,8127052.8814717,7971015.0835261,7839411.899518,7728488.615,7637616.1395969,7562953.2381622,7499596.1981034,7440507.9902333,7391246.0915408,7346404.338388,7306498.7214809,7270679.8235085,7237894.7744387],\"x\":[-1,0.15789473684211,1.3157894736842,2.4736842105263,3.6315789473684,4.7894736842105,5.9473684210526,7.1052631578947,8.2631578947368,9.4210526315789,10.578947368421,11.736842105263,12.894736842105,14.052631578947,15.210526315789,16.368421052632,17.526315789474,18.684210526316,19.842105263158,21]},\"column_names\":[\"y\",\"x\"],\"cont_ranges\":{},\"discrete_ranges\":{},\"selected\":[],\"id\":\"a44a8494-16b5-4fb8-cf42-04922a3e7ddc\",\"doc\":null,\"tags\":[]}},{\"id\":\"59eb4bbe-e5c6-4ea2-cead-62fcb2abf181\",\"type\":\"Line\",\"attributes\":{\"fill_alpha\":{\"units\":\"data\",\"value\":0.2},\"line_alpha\":{\"units\":\"data\",\"value\":1},\"doc\":null,\"size\":{\"units\":\"screen\",\"value\":10},\"fill_color\":{\"value\":\"blue\"},\"line_color\":{\"value\":\"blue\"},\"x\":{\"units\":\"data\",\"field\":\"x\"},\"id\":\"59eb4bbe-e5c6-4ea2-cead-62fcb2abf181\",\"y\":{\"units\":\"data\",\"field\":\"y\"},\"tags\":[]}},{\"id\":\"1997ab99-cc92-4a93-cae1-0cfe866b4e94\",\"type\":\"Line\",\"attributes\":{\"fill_alpha\":{\"units\":\"data\",\"value\":0.2},\"line_alpha\":{\"units\":\"data\",\"value\":1},\"doc\":null,\"size\":{\"units\":\"screen\",\"value\":10},\"fill_color\":{\"value\":\"blue\"},\"line_color\":{\"value\":\"blue\"},\"x\":{\"units\":\"data\",\"field\":\"x\"},\"id\":\"1997ab99-cc92-4a93-cae1-0cfe866b4e94\",\"y\":{\"units\":\"data\",\"field\":\"y\"},\"tags\":[]}},{\"id\":\"3ce0256a-7ff6-4ee3-ceb4-2371fa635f8b\",\"type\":\"GlyphRenderer\",\"attributes\":{\"name\":null,\"nonselection_glyph\":{\"type\":\"Line\",\"id\":\"1997ab99-cc92-4a93-cae1-0cfe866b4e94\"},\"doc\":null,\"server_data_source\":null,\"data_source\":{\"type\":\"ColumnDataSource\",\"id\":\"a44a8494-16b5-4fb8-cf42-04922a3e7ddc\"},\"glyph\":{\"type\":\"Line\",\"id\":\"59eb4bbe-e5c6-4ea2-cead-62fcb2abf181\"},\"selection_glyph\":null,\"id\":\"3ce0256a-7ff6-4ee3-ceb4-2371fa635f8b\",\"tags\":[]}},{\"id\":\"d9aa5789-797d-48c9-c879-38f546308841\",\"type\":\"DataRange1d\",\"attributes\":{\"sources\":[{\"columns\":[\"x\"],\"source\":{\"type\":\"ColumnDataSource\",\"id\":\"a44a8494-16b5-4fb8-cf42-04922a3e7ddc\"}}],\"id\":\"d9aa5789-797d-48c9-c879-38f546308841\",\"tags\":[],\"doc\":null}},{\"id\":\"901d8a57-d508-4e63-ceb3-a6769ec31120\",\"type\":\"DataRange1d\",\"attributes\":{\"sources\":[{\"columns\":[\"y\"],\"source\":{\"type\":\"ColumnDataSource\",\"id\":\"a44a8494-16b5-4fb8-cf42-04922a3e7ddc\"}}],\"id\":\"901d8a57-d508-4e63-ceb3-a6769ec31120\",\"tags\":[],\"doc\":null}},{\"id\":\"02149e24-970a-454e-c59e-a07fb6e3d7c7\",\"type\":\"ToolEvents\",\"attributes\":{\"tags\":[],\"id\":\"02149e24-970a-454e-c59e-a07fb6e3d7c7\",\"geometries\":[],\"doc\":null}},{\"id\":\"6e9410b8-f502-4c6d-ccaa-6483d24ea436\",\"type\":\"BasicTickFormatter\",\"attributes\":{\"id\":\"6e9410b8-f502-4c6d-ccaa-6483d24ea436\",\"tags\":[],\"doc\":null}},{\"id\":\"9d86e49d-7442-4127-c1ef-fdfdc2fe664a\",\"type\":\"BasicTicker\",\"attributes\":{\"num_minor_ticks\":5,\"id\":\"9d86e49d-7442-4127-c1ef-fdfdc2fe664a\",\"tags\":[],\"doc\":null}},{\"id\":\"7d852a49-fd35-4cc6-cc38-713d0d23be30\",\"type\":\"LinearAxis\",\"attributes\":{\"formatter\":{\"type\":\"BasicTickFormatter\",\"id\":\"6e9410b8-f502-4c6d-ccaa-6483d24ea436\"},\"ticker\":{\"type\":\"BasicTicker\",\"id\":\"9d86e49d-7442-4127-c1ef-fdfdc2fe664a\"},\"plot\":{\"id\":\"d65cbc11-f629-4c2d-cc04-125aa89d6d88\",\"type\":\"Plot\",\"subtype\":\"Figure\"},\"axis_label\":\"epoch #\",\"id\":\"7d852a49-fd35-4cc6-cc38-713d0d23be30\",\"doc\":null,\"tags\":[]}},{\"id\":\"8aadff0a-0852-4fd8-cfc3-aecd34e309dd\",\"type\":\"Grid\",\"attributes\":{\"dimension\":0,\"plot\":{\"id\":\"d65cbc11-f629-4c2d-cc04-125aa89d6d88\",\"type\":\"Plot\",\"subtype\":\"Figure\"},\"ticker\":{\"type\":\"BasicTicker\",\"id\":\"9d86e49d-7442-4127-c1ef-fdfdc2fe664a\"},\"id\":\"8aadff0a-0852-4fd8-cfc3-aecd34e309dd\",\"doc\":null,\"tags\":[]}},{\"id\":\"8110a632-ecaa-460f-c6e9-eb8ab967bdef\",\"type\":\"BasicTickFormatter\",\"attributes\":{\"id\":\"8110a632-ecaa-460f-c6e9-eb8ab967bdef\",\"tags\":[],\"doc\":null}},{\"id\":\"4b1341e6-e017-4481-c438-3b012922bced\",\"type\":\"BasicTicker\",\"attributes\":{\"num_minor_ticks\":5,\"id\":\"4b1341e6-e017-4481-c438-3b012922bced\",\"tags\":[],\"doc\":null}},{\"id\":\"c8548b08-60e0-4f8d-cfbe-7edd6499e07d\",\"type\":\"LinearAxis\",\"attributes\":{\"formatter\":{\"type\":\"BasicTickFormatter\",\"id\":\"8110a632-ecaa-460f-c6e9-eb8ab967bdef\"},\"ticker\":{\"type\":\"BasicTicker\",\"id\":\"4b1341e6-e017-4481-c438-3b012922bced\"},\"plot\":{\"id\":\"d65cbc11-f629-4c2d-cc04-125aa89d6d88\",\"type\":\"Plot\",\"subtype\":\"Figure\"},\"axis_label\":\"loss\",\"id\":\"c8548b08-60e0-4f8d-cfbe-7edd6499e07d\",\"doc\":null,\"tags\":[]}},{\"id\":\"c4089ba9-b99b-4d73-cdaa-59f1c74c770a\",\"type\":\"Grid\",\"attributes\":{\"dimension\":1,\"plot\":{\"id\":\"d65cbc11-f629-4c2d-cc04-125aa89d6d88\",\"type\":\"Plot\",\"subtype\":\"Figure\"},\"ticker\":{\"type\":\"BasicTicker\",\"id\":\"4b1341e6-e017-4481-c438-3b012922bced\"},\"id\":\"c4089ba9-b99b-4d73-cdaa-59f1c74c770a\",\"doc\":null,\"tags\":[]}},{\"id\":\"b2570b5e-defc-4261-c2c9-89f86377aebe\",\"type\":\"PanTool\",\"attributes\":{\"plot\":{\"id\":\"d65cbc11-f629-4c2d-cc04-125aa89d6d88\",\"type\":\"Plot\",\"subtype\":\"Figure\"},\"dimensions\":[\"width\",\"height\"],\"id\":\"b2570b5e-defc-4261-c2c9-89f86377aebe\",\"doc\":null,\"tags\":[]}},{\"id\":\"17e53ca0-bebc-482d-c8d4-7059ca9e3eb4\",\"type\":\"WheelZoomTool\",\"attributes\":{\"plot\":{\"id\":\"d65cbc11-f629-4c2d-cc04-125aa89d6d88\",\"type\":\"Plot\",\"subtype\":\"Figure\"},\"dimensions\":[\"width\",\"height\"],\"id\":\"17e53ca0-bebc-482d-c8d4-7059ca9e3eb4\",\"doc\":null,\"tags\":[]}},{\"id\":\"994f4217-746c-481c-c82e-c7174987064d\",\"type\":\"BoxZoomTool\",\"attributes\":{\"plot\":{\"id\":\"d65cbc11-f629-4c2d-cc04-125aa89d6d88\",\"type\":\"Plot\",\"subtype\":\"Figure\"},\"id\":\"994f4217-746c-481c-c82e-c7174987064d\",\"tags\":[],\"doc\":null}},{\"id\":\"b955cb7f-42d7-426a-c267-b1f5811c3e3f\",\"type\":\"PreviewSaveTool\",\"attributes\":{\"plot\":{\"id\":\"d65cbc11-f629-4c2d-cc04-125aa89d6d88\",\"type\":\"Plot\",\"subtype\":\"Figure\"},\"id\":\"b955cb7f-42d7-426a-c267-b1f5811c3e3f\",\"tags\":[],\"doc\":null}},{\"id\":\"f85aab52-447a-4562-c5a2-9f782acc2102\",\"type\":\"ResizeTool\",\"attributes\":{\"plot\":{\"id\":\"d65cbc11-f629-4c2d-cc04-125aa89d6d88\",\"type\":\"Plot\",\"subtype\":\"Figure\"},\"id\":\"f85aab52-447a-4562-c5a2-9f782acc2102\",\"tags\":[],\"doc\":null}},{\"id\":\"59f31695-5a53-4f8a-cffd-1e11cfce034d\",\"type\":\"ResetTool\",\"attributes\":{\"plot\":{\"id\":\"d65cbc11-f629-4c2d-cc04-125aa89d6d88\",\"type\":\"Plot\",\"subtype\":\"Figure\"},\"id\":\"59f31695-5a53-4f8a-cffd-1e11cfce034d\",\"tags\":[],\"doc\":null}},{\"id\":\"0bad5120-ff3d-416d-c1b7-bba69aa54e0e\",\"type\":\"Legend\",\"attributes\":{\"plot\":{\"id\":\"d65cbc11-f629-4c2d-cc04-125aa89d6d88\",\"type\":\"Plot\",\"subtype\":\"Figure\"},\"legends\":[[\"loss\",[{\"type\":\"GlyphRenderer\",\"id\":\"3ce0256a-7ff6-4ee3-ceb4-2371fa635f8b\"}]]],\"id\":\"0bad5120-ff3d-416d-c1b7-bba69aa54e0e\",\"doc\":null,\"tags\":[]}},{\"id\":\"d65cbc11-f629-4c2d-cc04-125aa89d6d88\",\"type\":\"Plot\",\"attributes\":{\"x_range\":{\"type\":\"DataRange1d\",\"id\":\"d9aa5789-797d-48c9-c879-38f546308841\"},\"tool_events\":{\"type\":\"ToolEvents\",\"id\":\"02149e24-970a-454e-c59e-a07fb6e3d7c7\"},\"below\":[{\"type\":\"LinearAxis\",\"id\":\"7d852a49-fd35-4cc6-cc38-713d0d23be30\"}],\"renderers\":[{\"type\":\"GlyphRenderer\",\"id\":\"3ce0256a-7ff6-4ee3-ceb4-2371fa635f8b\"},{\"type\":\"LinearAxis\",\"id\":\"7d852a49-fd35-4cc6-cc38-713d0d23be30\"},{\"type\":\"Grid\",\"id\":\"8aadff0a-0852-4fd8-cfc3-aecd34e309dd\"},{\"type\":\"LinearAxis\",\"id\":\"c8548b08-60e0-4f8d-cfbe-7edd6499e07d\"},{\"type\":\"Grid\",\"id\":\"c4089ba9-b99b-4d73-cdaa-59f1c74c770a\"},{\"type\":\"Legend\",\"id\":\"0bad5120-ff3d-416d-c1b7-bba69aa54e0e\"}],\"above\":[],\"tools\":[{\"type\":\"PanTool\",\"id\":\"b2570b5e-defc-4261-c2c9-89f86377aebe\"},{\"type\":\"WheelZoomTool\",\"id\":\"17e53ca0-bebc-482d-c8d4-7059ca9e3eb4\"},{\"type\":\"BoxZoomTool\",\"id\":\"994f4217-746c-481c-c82e-c7174987064d\"},{\"type\":\"PreviewSaveTool\",\"id\":\"b955cb7f-42d7-426a-c267-b1f5811c3e3f\"},{\"type\":\"ResizeTool\",\"id\":\"f85aab52-447a-4562-c5a2-9f782acc2102\"},{\"type\":\"ResetTool\",\"id\":\"59f31695-5a53-4f8a-cffd-1e11cfce034d\"}],\"doc\":null,\"right\":[],\"title\":\"Training Loss\",\"extra_x_ranges\":{},\"left\":[{\"type\":\"LinearAxis\",\"id\":\"c8548b08-60e0-4f8d-cfbe-7edd6499e07d\"}],\"y_range\":{\"type\":\"DataRange1d\",\"id\":\"901d8a57-d508-4e63-ceb3-a6769ec31120\"},\"id\":\"d65cbc11-f629-4c2d-cc04-125aa89d6d88\",\"extra_y_ranges\":{},\"tags\":[]}}];\n",
       "      Bokeh.load_models(all_models);\n",
       "      var model = Bokeh.Collections(modeltype).get(modelid);\n",
       "      $(\"#f96ed112-c60b-41da-c1e3-b1532cecbf2f\").html(''); // clear any previous plot in window_id\n",
       "      var view = new model.default_view({model: model, el: \"#f96ed112-c60b-41da-c1e3-b1532cecbf2f\"});\n",
       "  });\n",
       "    }\n",
       "});\n",
       "</script>\n",
       "<div class=\"plotdiv\" id=\"f96ed112-c60b-41da-c1e3-b1532cecbf2f\"></div>\n"
      ]
     },
     "metadata": {},
     "output_type": "display_data"
    }
   ],
   "source": [
    "Plot = require 'itorch.Plot'\n",
    "losses = VAE.losses\n",
    "x = torch.linspace(-1, #losses + 1, #losses)\n",
    "y = torch.DoubleTensor(losses)\n",
    "plot = Plot():line(x, y,'blue','loss'):legend(true):title('Training Loss'):xaxis('epoch #'):yaxis('loss'):draw()"
   ]
  },
  {
   "cell_type": "markdown",
   "metadata": {},
   "source": [
    "#### Reconstruction Test\n",
    "\n",
    "Visualize reconstruction from MNIST test images"
   ]
  },
  {
   "cell_type": "code",
   "execution_count": 9,
   "metadata": {
    "collapsed": false
   },
   "outputs": [],
   "source": [
    "-- Visualize reconstruction from MNIST test images\n",
    "test_data = mnist.testdataset().data:double():div(255) -- normalised [0, 1]\n",
    "test_data = test_data:resize(test_data:size(1), test_data:size(2)*test_data:size(3)) -- resize data into 1D"
   ]
  },
  {
   "cell_type": "code",
   "execution_count": 10,
   "metadata": {
    "collapsed": false
   },
   "outputs": [
    {
     "data": {
      "image/png": "[encoded data removed]",
      "text/plain": [
       "Console does not support images"
      ]
     },
     "metadata": {
      "image/png": {
       "height": 152,
       "width": 608
      }
     },
     "output_type": "display_data"
    },
    {
     "data": {
      "image/png": "[encoded data removed]",
      "text/plain": [
       "Console does not support images"
      ]
     },
     "metadata": {
      "image/png": {
       "height": 152,
       "width": 608
      }
     },
     "output_type": "display_data"
    },
    {
     "data": {
      "image/png": "[encoded data removed]",
      "text/plain": [
       "Console does not support images"
      ]
     },
     "metadata": {
      "image/png": {
       "height": 152,
       "width": 608
      }
     },
     "output_type": "display_data"
    }
   ],
   "source": [
    "scale = 150\n",
    "for i=1,6,2 do\n",
    "    reconstructed_left = VAE:reconstruct(test_data[i]):clone()\n",
    "    reconstructed_right = VAE:reconstruct(test_data[i+1]):clone()\n",
    "    itorch.image({\n",
    "            image.scale(test_data[i]:resize(28,28),scale), image.scale(reconstructed_left:resize(28,28),scale),\n",
    "            image.scale(test_data[i+1]:resize(28,28),scale),image.scale(reconstructed_right:resize(28,28),scale)\n",
    "    })\n",
    "end"
   ]
  },
  {
   "cell_type": "markdown",
   "metadata": {
    "collapsed": false
   },
   "source": [
    "#### Random Generation Test\n",
    "\n",
    "Visualize random generation for MNIST"
   ]
  },
  {
   "cell_type": "code",
   "execution_count": 11,
   "metadata": {
    "collapsed": false
   },
   "outputs": [
    {
     "data": {
      "image/png": "[encoded data removed]",
      "text/plain": [
       "Console does not support images"
      ]
     },
     "metadata": {
      "image/png": {
       "height": 152,
       "width": 608
      }
     },
     "output_type": "display_data"
    }
   ],
   "source": [
    "image_table = {}\n",
    "for i = 1, 4 do\n",
    "    image_table[i] = image.scale(VAE:generate():resize(28,28),scale)\n",
    "end\n",
    "itorch.image(image_table)"
   ]
  }
 ],
 "metadata": {
  "kernelspec": {
   "display_name": "iTorch",
   "language": "lua",
   "name": "itorch"
  },
  "language_info": {
   "name": "lua",
   "version": "5.1"
  }
 },
 "nbformat": 4,
 "nbformat_minor": 1
}
