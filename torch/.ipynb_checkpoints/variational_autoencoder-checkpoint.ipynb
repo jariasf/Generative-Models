{
 "cells": [
  {
   "cell_type": "code",
   "execution_count": 21,
   "metadata": {
    "collapsed": false
   },
   "outputs": [],
   "source": [
    "require \"nn\"\n",
    "require \"nngraph\"\n",
    "require \"optim\"\n",
    "require \"KLD_Gaussian_Criterion\"\n",
    "require \"image\""
   ]
  },
  {
   "cell_type": "markdown",
   "metadata": {},
   "source": [
    "### Load MNIST images "
   ]
  },
  {
   "cell_type": "code",
   "execution_count": 22,
   "metadata": {
    "collapsed": true
   },
   "outputs": [],
   "source": [
    "mnist = require \"mnist\""
   ]
  },
  {
   "cell_type": "code",
   "execution_count": 23,
   "metadata": {
    "collapsed": false
   },
   "outputs": [
    {
     "data": {
      "text/plain": [
       "Number of Samples: 60000. Feature Dimension: 784\t\n"
      ]
     },
     "execution_count": 23,
     "metadata": {},
     "output_type": "execute_result"
    }
   ],
   "source": [
    "train_data = mnist.traindataset().data:double():div(255) -- normalised [0, 1]\n",
    "n_samples = mnist.traindataset().size\n",
    "m_features = mnist.traindataset().data:size(2) * mnist.traindataset().data:size(3)\n",
    "print(\"Number of Samples: \".. n_samples .. \". Feature Dimension: \".. m_features)"
   ]
  },
  {
   "cell_type": "markdown",
   "metadata": {},
   "source": [
    "### Data Visualization"
   ]
  },
  {
   "cell_type": "code",
   "execution_count": 14,
   "metadata": {
    "collapsed": false
   },
   "outputs": [
    {
     "data": {
      "image/png": "[encoded data removed]",
      "text/plain": [
       "Console does not support images"
      ]
     },
     "metadata": {
      "image/png": {
       "height": 102,
       "width": 306
      }
     },
     "output_type": "display_data"
    },
    {
     "data": {
      "image/png": "[encoded data removed]",
      "text/plain": [
       "Console does not support images"
      ]
     },
     "metadata": {
      "image/png": {
       "height": 102,
       "width": 306
      }
     },
     "output_type": "display_data"
    },
    {
     "data": {
      "image/png": "[encoded data removed]",
      "text/plain": [
       "Console does not support images"
      ]
     },
     "metadata": {
      "image/png": {
       "height": 102,
       "width": 306
      }
     },
     "output_type": "display_data"
    }
   ],
   "source": [
    "scale = 100\n",
    "for i=1,9,3 do\n",
    "    itorch.image({image.scale(train_data[i],scale), \n",
    "                  image.scale(train_data[i+1],scale), \n",
    "                  image.scale(train_data[i+2],scale)})\n",
    "end"
   ]
  },
  {
   "cell_type": "markdown",
   "metadata": {},
   "source": [
    "### Variational Autoencoder\n",
    "Variational Autoencoder consist of an encoder, a decoder and a loss function.\n",
    "\n",
    "#### Encoder\n",
    "Encoder network receives as input the image representation, in case of MNIST dataset it is a 28x28 pixel image.\n",
    "The encoder *‘encodes’* the data which is 784-dimensional into a latent (hidden) representation space z, which is much less than 784 dimensions. \n",
    "\n",
    "In our class, the encoder calculates the mean and standard deviation of the gaussian which will produce the latent variable z.\n",
    "\n",
    "#### Decoder\n",
    "Decoder network receives as input the latent variable z. The decoder *‘decodes’* the real-valued numbers in z into 784 real-valued numbers between 0 and 1. Information is lost because it goes from a smaller to a larger dimensionality.\n",
    "\n",
    "#### Loss function\n",
    "The loss function of the variational autoencoder is the negative log-likelihood with a regularizer.\n",
    "\\begin{align}\n",
    "L^{\\tt{v}} & = \\mathbb{E}_{q(z|x^{(i)})}\\left( \\log\\left(p(x^{(i)}|z)\\right)\\right) - D_{\\tt{KL}} \\left( q(z|x^{(i)}) || p(z) \\right)&\\\\\n",
    "\\end{align}\n",
    "\n",
    "The first term is the reconstruction loss, or expected negative log-likelihood of the i-th datapoint. This term encourages the decoder to learn to reconstruct the data. If the decoder’s output does not reconstruct the data well, it will incur a large cost in this loss function.\n",
    "\n",
    "The second term is a regularizer. This is the Kullback-Leibler divergence between the encoder’s distribution q(z∣x) and p(z). This divergence measures how much information is lost when using q to represent p. It is one measure of how close q is to p."
   ]
  },
  {
   "cell_type": "code",
   "execution_count": 24,
   "metadata": {
    "collapsed": true
   },
   "outputs": [],
   "source": [
    "-- Resize data into 1D\n",
    "train_data = train_data:resize(train_data:size(1), train_data:size(2)*train_data:size(3))"
   ]
  },
  {
   "cell_type": "code",
   "execution_count": 126,
   "metadata": {
    "collapsed": false
   },
   "outputs": [],
   "source": [
    "do\n",
    "    local VAE = torch.class(\"VariationalAutoencoder\")\n",
    "    local BCE_criteria\n",
    "    local KLD_criteria\n",
    "    \n",
    "    -- VAE initialization\n",
    "    function VAE:__init(latent_dim)\n",
    "        BCE_criteria = nn.BCECriterion()\n",
    "        BCE_criteria.sizeAverage = false\n",
    "        KLD_criteria = nn.KLD_Gaussian_Criterion()\n",
    "        self.latent_dim = latent_dim\n",
    "    end\n",
    "    \n",
    "     -- Build a VAE from data X ( num_samples x num_features ) \n",
    "    function VAE:fit(X)\n",
    "        self.num_samples = X:size(1)\n",
    "        self.num_features = X:size(2)\n",
    "        self.data = X\n",
    "    end\n",
    "    \n",
    "    -- Encoder network\n",
    "    -- params: number of features, latent space dimension\n",
    "    -- input: data (num_samples x num_features )\n",
    "    -- output: mean and logarithm of variance\n",
    "    function get_encoder(num_features, latent_dim)\n",
    "        local input = - nn.Identity()\n",
    "        \n",
    "        local hidden_layer = input \n",
    "                    - nn.Linear(num_features, 400) - nn.ReLU(true) -- - nn.Tanh()\n",
    "                    - nn.Linear(400,200) - nn.ReLU(true) -- - nn.Tanh()\n",
    "        local W_mean = hidden_layer - nn.Linear(200, latent_dim)\n",
    "        local W_logVar = hidden_layer - nn.Linear(200, latent_dim)\n",
    "\n",
    "        local z_latent = {W_mean, W_logVar} - nn.Identity()\n",
    "\n",
    "        return nn.gModule({input}, {z_latent})\n",
    "    end\n",
    "    \n",
    "    -- Decoder network\n",
    "    -- params: number of features, latent space dimension\n",
    "    -- input: representation z obtained after reparametrization trick\n",
    "    -- output: reconstruction of initial data X\n",
    "    function get_decoder(num_features, latent_dim)\n",
    "        local input = - nn.Identity()\n",
    "\n",
    "        local generated = input\n",
    "                    - nn.Linear(latent_dim, 200)  - nn.ReLU(true) -- - nn.Tanh()\n",
    "                    - nn.Linear(200, 400) - nn.ReLU(true) -- - nn.Tanh()\n",
    "                    - nn.Linear(400, num_features) - nn.Sigmoid()\n",
    "\n",
    "        return nn.gModule({input} , {generated})\n",
    "    end\n",
    "    \n",
    "    -- Gaussian sampler\n",
    "    -- params: latent space dimension\n",
    "    -- input: mean, logarithm of variance from encoder and noise\n",
    "    -- output: gaussian sample based on reparametrization trick\n",
    "    function gaussian_sampler(latent_dim)\n",
    "\n",
    "        local z_latent = - nn.Identity()\n",
    "        local noise = - nn.Identity() \n",
    "        \n",
    "        local mean = z_latent - nn.SelectTable(1)\n",
    "        local logVar = z_latent - nn.SelectTable(2)\n",
    "                      \n",
    "        local sigma = logVar \n",
    "                            - nn.MulConstant(0.5) -- Compute 1/2 log σ^2 = log σ\n",
    "                            - nn.Exp() -- Compute σ\n",
    "        \n",
    "        local sigma_noise = {sigma, noise} - nn.CMulTable() -- Compute σε\n",
    "        \n",
    "        -- Reparametrization trick \n",
    "        -- N(z; μ, σI) = μ + σε\n",
    "        local sample = {mean, sigma_noise} - nn.CAddTable() - nn.View(-1, latent_dim)\n",
    "        \n",
    "        return nn.gModule({z_latent, noise}, {sample})\n",
    "    end\n",
    "    \n",
    "    -- VAE model\n",
    "    -- input: data and noise\n",
    "    -- output: reconstructed data, mean and logarithm of variance\n",
    "    function get_vae_model(self, num_features, latent_dim)\n",
    "        local input_data = - nn.Identity()\n",
    "        local input_noise = - nn.Identity()\n",
    "        \n",
    "        --Encoder: Calculate mean and std from input data\n",
    "        local encoder = input_data - get_encoder(num_features, latent_dim)\n",
    "        \n",
    "        --Sampler: Reparametrization trick - add gaussian noise\n",
    "        local z_sample = {encoder, input_noise} - gaussian_sampler(latent_dim)\n",
    "\n",
    "        --Decoder: Reconstruct data from latent sample z\n",
    "        self.decoder = get_decoder(num_features, latent_dim) -- used later for generation\n",
    "        local reconstruct = z_sample - self.decoder\n",
    "        --local decoder = z_sample - get_decoder(num_features, latent_dim)\n",
    "        \n",
    "        return nn.gModule({input_data, input_noise} , {reconstruct, encoder})\n",
    "    end\n",
    "    \n",
    "    --Function used in optim module for optimization\n",
    "    --Return loss obtained after forward and gradients after backward\n",
    "    function feval(x)\n",
    "\n",
    "        if x ~= params then\n",
    "            params:copy(x)\n",
    "        end\n",
    "\n",
    "        VAE_model:zeroGradParameters()\n",
    "        \n",
    "        local reconstructed, z_latent = table.unpack( VAE_model:forward({batch_data, batch_noise}) )\n",
    "\n",
    "        -- 1.) Reconstruction Cost = E[logP(y|x)] \n",
    "        -- Binary Cross entropy because we have binary values(0,1)\n",
    "        local reconstruction_loss = BCE_criteria:forward(reconstructed , batch_data)\n",
    "        local reconstruction_grad = BCE_criteria:backward(reconstructed , batch_data)\n",
    "\n",
    "        -- 2.) KL-divergence cost = KL(Q(z|x) || P(z)) P(z)~gaussian\n",
    "        local regularization_loss = KLD_criteria:forward(z_latent)\n",
    "        local regularization_grad = KLD_criteria:backward(z_latent)\n",
    "\n",
    "        local gradLoss = {reconstruction_grad, regularization_grad}\n",
    "        VAE_model:backward({batch_data, batch_noise}, gradLoss)\n",
    "        \n",
    "        -- Loss = Reconstruction loss + KL-divergence cost\n",
    "        local loss = reconstruction_loss + regularization_loss\n",
    "\n",
    "        return loss, gradParams\n",
    "        \n",
    "    end\n",
    "    \n",
    "    -- Train VAE\n",
    "    function VAE:train(batch_size, epochs, learning_rate, optimiser)\n",
    "        \n",
    "        VAE_model = get_vae_model(self,self.num_features, self.latent_dim)\n",
    "        params, gradParams = VAE_model:getParameters()\n",
    "    \n",
    "        -- Save loss per epoch\n",
    "        self.epoch_vs_loss = {}\n",
    "        \n",
    "        -- Number of iterations\n",
    "        for epoch = 1,epochs do\n",
    "            \n",
    "            --Sample noise ε ~ N(0, 1)\n",
    "            local gaussian_noise = torch.randn(self.num_samples, self.latent_dim) \n",
    "            local indices_all = torch.randperm(self.num_samples):long()\n",
    "            local indices = indices_all:split(batch_size)\n",
    "            local Loss = 0.0\n",
    "            \n",
    "            -- Training in batches\n",
    "            for t,v in ipairs(indices) do\n",
    "                xlua.progress(t, #indices)\n",
    "                batch_data = self.data:index(1, v)\n",
    "                batch_noise = gaussian_noise:index(1,v)\n",
    "                __, loss = optim[optimiser](feval, params, {learningRate = learning_rate })\n",
    "                Loss = Loss + loss[1]\n",
    "            end\n",
    "            print(\"Epoch: \" .. epoch .. \" Loss: \" .. Loss/batch_size )\n",
    "            self.epoch_vs_loss[#self.epoch_vs_loss + 1] = Loss\n",
    "        end\n",
    "    end\n",
    "    \n",
    "    -- Generate random data after training\n",
    "    function VAE:generate()\n",
    "        local noise = torch.randn(self.latent_dim):double()\n",
    "        return self.decoder:forward(noise)\n",
    "    end\n",
    "    \n",
    "    -- Reconstruct data\n",
    "    -- input: data with dimensions (1 x num_features)\n",
    "    -- output: reconstructed data (1 x num_features)\n",
    "    function VAE:reconstruct(x)\n",
    "        local noise = torch.randn(self.latent_dim):double()\n",
    "        local reconstructed, z_latent = table.unpack(VAE_model:forward({x, noise}))\n",
    "        return reconstructed\n",
    "    end\n",
    "    \n",
    "    function VAE:getModel()\n",
    "        return VAE_model\n",
    "    end\n",
    "end\n"
   ]
  },
  {
   "cell_type": "markdown",
   "metadata": {
    "collapsed": false
   },
   "source": [
    "### Testing Variational Autoencoder"
   ]
  },
  {
   "cell_type": "code",
   "execution_count": null,
   "metadata": {
    "collapsed": false
   },
   "outputs": [
    {
     "name": "stdout",
     "output_type": "stream",
     "text": [
      " [============================================================>.........................]                               \b\b\b\b\b\b\b\b\b\b\b\b\b\b\b\b\b\b\b\b\b\b\b\b\b\b\b\b\b\b ETA: 24s304ms | Step: 1s429ms\b\b\b\b\b\b\b\b\b\b\b\b\b\b\b\b\b\b\b\b\b\b\b\b\b\b\b\b\b\b\b\b\b\b\b\b\b\b\b\b\b\b\b\b\b\b\b\b\b\b\b\b\b\b\b\b\b\b\b\b\b\b\b\b\b\b\b\b\b\b\b\b\b\b\b\b\b\b "
     ]
    }
   ],
   "source": [
    "-- VAE Instantiation\n",
    "VAE = VariationalAutoencoder(20)\n",
    "\n",
    "-- Use MNIST dataset\n",
    "VAE:fit(train_data)\n",
    "\n",
    "--VAE:generate()\n",
    "-- Train VAE (batch_size, epochs, learning_rate, optimizer)\n",
    "VAE:train(100, 20, 0.0001, \"adam\")"
   ]
  },
  {
   "cell_type": "markdown",
   "metadata": {},
   "source": [
    "#### Plot - Epoch vs Loss"
   ]
  },
  {
   "cell_type": "code",
   "execution_count": 97,
   "metadata": {
    "collapsed": false
   },
   "outputs": [],
   "source": [
    "Plot = require 'itorch.Plot'\n",
    "losses = VAE.epoch_vs_loss\n",
    "x = torch.linspace(-1, #losses + 1, #losses)\n",
    "y = torch.DoubleTensor(losses)\n",
    "plot = Plot():line(x, y,'blue','loss'):legend(true):title('Training Loss'):xaxis('epoch #'):yaxis('loss'):draw()"
   ]
  },
  {
   "cell_type": "markdown",
   "metadata": {},
   "source": [
    "#### Reconstruction Test\n",
    "\n",
    "Visualize reconstruction from MNIST test images"
   ]
  },
  {
   "cell_type": "code",
   "execution_count": 98,
   "metadata": {
    "collapsed": false
   },
   "outputs": [],
   "source": [
    "-- Visualize reconstruction from MNIST test images\n",
    "test_data = mnist.testdataset().data:double():div(255) -- normalised [0, 1]\n",
    "test_data = test_data:resize(test_data:size(1), test_data:size(2)*test_data:size(3)) -- resize data into 1D"
   ]
  },
  {
   "cell_type": "code",
   "execution_count": 100,
   "metadata": {
    "collapsed": false
   },
   "outputs": [
    {
     "data": {
      "image/png": "[encoded data removed]",
      "text/plain": [
       "Console does not support images"
      ]
     },
     "metadata": {
      "image/png": {
       "height": 152,
       "width": 608
      }
     },
     "output_type": "display_data"
    },
    {
     "data": {
      "image/png": "[encoded data removed]",
      "text/plain": [
       "Console does not support images"
      ]
     },
     "metadata": {
      "image/png": {
       "height": 152,
       "width": 608
      }
     },
     "output_type": "display_data"
    },
    {
     "data": {
      "image/png": "[encoded data removed]",
      "text/plain": [
       "Console does not support images"
      ]
     },
     "metadata": {
      "image/png": {
       "height": 152,
       "width": 608
      }
     },
     "output_type": "display_data"
    }
   ],
   "source": [
    "scale = 150\n",
    "for i=1,6,2 do\n",
    "    reconstructed_left = VAE:reconstruct(test_data[i])\n",
    "    reconstructed_right = VAE:reconstruct(test_data[i+1])\n",
    "    itorch.image({\n",
    "            image.scale(test_data[i]:resize(28,28),scale), image.scale(reconstructed_left:resize(28,28),scale),\n",
    "            image.scale(test_data[i+1]:resize(28,28),scale),image.scale(reconstructed_right:resize(28,28),scale)\n",
    "    })\n",
    "end"
   ]
  },
  {
   "cell_type": "markdown",
   "metadata": {
    "collapsed": false
   },
   "source": [
    "#### Random Generation Test\n",
    "\n",
    "Visualize random generation for MNIST"
   ]
  },
  {
   "cell_type": "code",
   "execution_count": 101,
   "metadata": {
    "collapsed": false
   },
   "outputs": [
    {
     "ename": "[string \"do...\"]:167: attempt to index field 'decoder' (a nil value)\nstack traceback:\n\t[string \"do...\"]:167: in function 'generate'\n\t[string \"image_table = {}...\"]:3: in main chunk\n\t[C]: in function 'xpcall'\n\t/home/jariasf/torch/install/share/lua/5.1/itorch/main.lua:210: in function </home/jariasf/torch/install/share/lua/5.1/itorch/main.lua:174>\n\t/home/jariasf/torch/install/share/lua/5.1/lzmq/poller.lua:75: in function 'poll'\n\t...e/jariasf/torch/install/share/lua/5.1/lzmq/impl/loop.lua:307: in function 'poll'\n\t...e/jariasf/torch/install/share/lua/5.1/lzmq/impl/loop.lua:325: in function 'sleep_ex'\n\t...e/jariasf/torch/install/share/lua/5.1/lzmq/impl/loop.lua:370: in function 'start'\n\t/home/jariasf/torch/install/share/lua/5.1/itorch/main.lua:389: in main chunk\n\t[C]: in function 'require'\n\t(command line):1: in main chunk\n\t[C]: at 0x00405e40",
     "evalue": "",
     "output_type": "error",
     "traceback": [
      "[string \"do...\"]:167: attempt to index field 'decoder' (a nil value)\nstack traceback:\n\t[string \"do...\"]:167: in function 'generate'\n\t[string \"image_table = {}...\"]:3: in main chunk\n\t[C]: in function 'xpcall'\n\t/home/jariasf/torch/install/share/lua/5.1/itorch/main.lua:210: in function </home/jariasf/torch/install/share/lua/5.1/itorch/main.lua:174>\n\t/home/jariasf/torch/install/share/lua/5.1/lzmq/poller.lua:75: in function 'poll'\n\t...e/jariasf/torch/install/share/lua/5.1/lzmq/impl/loop.lua:307: in function 'poll'\n\t...e/jariasf/torch/install/share/lua/5.1/lzmq/impl/loop.lua:325: in function 'sleep_ex'\n\t...e/jariasf/torch/install/share/lua/5.1/lzmq/impl/loop.lua:370: in function 'start'\n\t/home/jariasf/torch/install/share/lua/5.1/itorch/main.lua:389: in main chunk\n\t[C]: in function 'require'\n\t(command line):1: in main chunk\n\t[C]: at 0x00405e40"
     ]
    }
   ],
   "source": [
    "image_table = {}\n",
    "for i = 1, 4 do\n",
    "    image_table[i] = image.scale(VAE:generate():resize(28,28),scale)\n",
    "end\n",
    "itorch.image(image_table)"
   ]
  }
 ],
 "metadata": {
  "kernelspec": {
   "display_name": "iTorch",
   "language": "lua",
   "name": "itorch"
  },
  "language_info": {
   "name": "lua",
   "version": "5.1"
  }
 },
 "nbformat": 4,
 "nbformat_minor": 1
}
