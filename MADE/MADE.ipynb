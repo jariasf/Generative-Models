{
  "nbformat": 4,
  "nbformat_minor": 0,
  "metadata": {
    "colab": {
      "name": "MADE.ipynb",
      "version": "0.3.2",
      "provenance": []
    },
    "kernelspec": {
      "name": "python2",
      "display_name": "Python 2"
    },
    "accelerator": "GPU"
  },
  "cells": [
    {
      "metadata": {
        "id": "PdN02N_0Wjqm",
        "colab_type": "text"
      },
      "cell_type": "markdown",
      "source": [
        "# Masked Autoencoder for Distribution Estimation (MADE)\n",
        "\n",
        "**Paper: ** https://arxiv.org/pdf/1502.03509.pdf\n",
        "\n",
        "**Author: ** Jhosimar George Arias Figueroa"
      ]
    },
    {
      "metadata": {
        "id": "DWmhNZrGXYfv",
        "colab_type": "text"
      },
      "cell_type": "markdown",
      "source": [
        "## Import Libraries"
      ]
    },
    {
      "metadata": {
        "id": "CfcC7tUcXY2K",
        "colab_type": "code",
        "outputId": "c8715717-9ec3-403a-9728-c04a34640929",
        "colab": {
          "base_uri": "https://localhost:8080/",
          "height": 34
        }
      },
      "cell_type": "code",
      "source": [
        "import tensorflow as tf\n",
        "import keras\n",
        "from keras.datasets import mnist\n",
        "import numpy as np\n",
        "import matplotlib.pyplot as plt"
      ],
      "execution_count": 0,
      "outputs": [
        {
          "output_type": "stream",
          "text": [
            "Using TensorFlow backend.\n"
          ],
          "name": "stderr"
        }
      ]
    },
    {
      "metadata": {
        "id": "rx_fdopGXZA-",
        "colab_type": "text"
      },
      "cell_type": "markdown",
      "source": [
        "## Load MNIST Dataset"
      ]
    },
    {
      "metadata": {
        "id": "BZC2AW8uYWtD",
        "colab_type": "code",
        "outputId": "f55d3b14-af90-4f61-96de-a8ab8795ac29",
        "colab": {
          "base_uri": "https://localhost:8080/",
          "height": 52
        }
      },
      "cell_type": "code",
      "source": [
        "(X_train, y_train), (X_test, y_test) = mnist.load_data()\n",
        "img_rows, img_cols, img_chns = X_train.shape[1], X_train.shape[2], 1\n",
        "X_train = np.round(X_train.reshape(X_train.shape[0], img_rows * img_cols) / 255.)\n",
        "X_test = np.round(X_test.reshape(X_test.shape[0], img_rows * img_cols) / 255.)\n",
        "\n",
        "print(X_train.shape, y_train.shape)\n",
        "print(X_test.shape, y_test.shape)"
      ],
      "execution_count": 0,
      "outputs": [
        {
          "output_type": "stream",
          "text": [
            "((60000, 784), (60000,))\n",
            "((10000, 784), (10000,))\n"
          ],
          "name": "stdout"
        }
      ]
    },
    {
      "metadata": {
        "id": "FwQip1Fx3Uvm",
        "colab_type": "text"
      },
      "cell_type": "markdown",
      "source": [
        "### Create Validation Dataset"
      ]
    },
    {
      "metadata": {
        "id": "EyYxwjxW3Zks",
        "colab_type": "code",
        "outputId": "0e18a73b-eb07-4d78-a7f9-f1c8618fdb2d",
        "colab": {
          "base_uri": "https://localhost:8080/",
          "height": 52
        }
      },
      "cell_type": "code",
      "source": [
        "def partition_dataset(X_train, y_train, proportion=0.8):\n",
        "  # hold out split - 80% training and 20% validation\n",
        "  indices = np.random.permutation(X_train.shape[0])\n",
        "  train_size = int(proportion * X_train.shape[0])\n",
        "  train_indices, val_indices = indices[:train_size], indices[train_size:]\n",
        "  train_data, train_labels = X_train[train_indices], y_train[train_indices]\n",
        "  validation_data, validation_labels = X_train[val_indices], y_train[val_indices]\n",
        "  return train_data, train_labels, validation_data, validation_labels\n",
        "\n",
        "X_train, y_train, X_val, y_val = partition_dataset(X_train, y_train, 0.8)\n",
        "print(X_train.shape, y_train.shape)\n",
        "print(X_val.shape, y_val.shape)"
      ],
      "execution_count": 0,
      "outputs": [
        {
          "output_type": "stream",
          "text": [
            "((48000, 784), (48000,))\n",
            "((12000, 784), (12000,))\n"
          ],
          "name": "stdout"
        }
      ]
    },
    {
      "metadata": {
        "id": "IiiwzgxJYW4z",
        "colab_type": "text"
      },
      "cell_type": "markdown",
      "source": [
        "### Display Dataset"
      ]
    },
    {
      "metadata": {
        "id": "sImEWFw1ZEOP",
        "colab_type": "code",
        "outputId": "29fff838-1724-49fe-edf5-8f7feb409c45",
        "colab": {
          "base_uri": "https://localhost:8080/",
          "height": 650
        }
      },
      "cell_type": "code",
      "source": [
        "def display_dataset(X, H, W, n=10):\n",
        "  grid = np.zeros((H * n, W * n))\n",
        "  for i in range(n):\n",
        "    for j in range(n):\n",
        "      index = np.random.randint(X.shape[0])\n",
        "      sample = X[index].reshape(H, W)\n",
        "      grid[i*H:i*H+H,j*W:j*W+W] = sample\n",
        "  \n",
        "  plt.figure(figsize=(n, n))\n",
        "  plt.imshow(grid, cmap=plt.get_cmap('gray'))\n",
        "  plt.grid('off')\n",
        "  plt.axis('off')\n",
        "  plt.show()\n",
        "\n",
        "display_dataset(X_train, img_rows, img_cols)"
      ],
      "execution_count": 0,
      "outputs": [
        {
          "output_type": "stream",
          "text": [
            "/usr/local/lib/python2.7/dist-packages/matplotlib/cbook/deprecation.py:107: MatplotlibDeprecationWarning: Passing one of 'on', 'true', 'off', 'false' as a boolean is deprecated; use an actual boolean (True/False) instead.\n",
            "  warnings.warn(message, mplDeprecation, stacklevel=1)\n"
          ],
          "name": "stderr"
        },
        {
          "output_type": "display_data",
          "data": {
            "image/png": "[encoded data removed]",
            "text/plain": [
              "<Figure size 720x720 with 1 Axes>"
            ]
          },
          "metadata": {
            "tags": []
          }
        }
      ]
    },
    {
      "metadata": {
        "id": "wPPfF5-dZEXl",
        "colab_type": "text"
      },
      "cell_type": "markdown",
      "source": [
        "## MADE Model"
      ]
    },
    {
      "metadata": {
        "id": "wjnvnYAIWi3k",
        "colab_type": "code",
        "colab": {}
      },
      "cell_type": "code",
      "source": [
        "class MADE:\n",
        "\n",
        "  def __init__(self, **params):\n",
        "    self.sess = tf.Session()\n",
        "    self.num_epochs = params.get('num_epochs', 100)\n",
        "    self.batch_size = params.get('batch_size', 32)\n",
        "    self.learning_rate = params.get('learning_rate', 0.001)\n",
        "    self.verbose = params.get('verbose', 1)\n",
        "    self.hidden_sizes = params.get('hidden_sizes', [])\n",
        "    self.natural_ordering = params.get('natural_ordering', True)\n",
        "    self.initializer = tf.contrib.layers.xavier_initializer(uniform=False)\n",
        "\n",
        "\n",
        "  def build_weight(self, shape, use_bias=True):\n",
        "    \"\"\"Weight initialization\n",
        "    \n",
        "    Args:\n",
        "        shape: (array) weight shape ,e.g., (rows,cols)\n",
        "        use_bias: (bool) whether to use bias or not\n",
        "        \n",
        "    Returns:\n",
        "        W,b: (array) initialized weight and bias\n",
        "    \"\"\"\n",
        "    # initialize the weights\n",
        "    W = tf.Variable(self.initializer(shape), dtype=tf.float32, name='weight')\n",
        "    # initialize bias if required\n",
        "    if use_bias == True:\n",
        "      b = tf.Variable(tf.constant(0.1, shape=[shape[-1]]), name='bias')\n",
        "    else:\n",
        "      b = None\n",
        "    # initialized weight and bias  \n",
        "    return W, b\n",
        "\n",
        "\n",
        "  def build_weight_mask(self, shape, prev_indices, output_size, is_output=True):\n",
        "    \"\"\"Weight mask generation\n",
        "    \n",
        "    Args:\n",
        "        shape: (array) weight shape ,e.g., (rows,cols)\n",
        "        prev_indices: (array) indices values of previous layer\n",
        "        output_size: (int) output size\n",
        "        is_output: (bool) whether we are in the output layer or not\n",
        "        \n",
        "    Returns:\n",
        "        mask: (array) generated weight mask\n",
        "        indices: (array) indices of the current layer\n",
        "    \"\"\"\n",
        "    if is_output:\n",
        "      # input and ouput have same shape\n",
        "      indices = self.initial_indices\n",
        "    else:\n",
        "      # generate random indices for current weight\n",
        "      indices = np.random.randint(prev_indices.min(), output_size - 1, size=shape[-1])\n",
        "    # create mask based on current and previous indices\n",
        "    if is_output == False:\n",
        "      mask = prev_indices[:,None] <= indices[None,:]\n",
        "    else:\n",
        "      mask = prev_indices[:,None] < indices[None,:]\n",
        "      \n",
        "    # mask matrix and current indices  \n",
        "    return tf.constant(mask, dtype='float32', shape=shape), indices\n",
        "  \n",
        "  \n",
        "  def initialize_weights(self, input_size, output_size):\n",
        "    \"\"\"Network weights initialization\n",
        "    \n",
        "    Args:\n",
        "        input_size: (int) input size\n",
        "        output_size: (int) output size\n",
        "        \n",
        "    Returns:\n",
        "        None but all the weights will be saved for later use.\n",
        "    \"\"\"\n",
        "    # shape of first layer\n",
        "    shape = (input_size, self.hidden_sizes[0])\n",
        "    \n",
        "    # create indices for the different variables\n",
        "    prev_indices = np.arange(input_size) if self.natural_ordering else np.random.permutation(input_size)\n",
        "    self.initial_indices = prev_indices.copy()\n",
        "    \n",
        "    # network weights\n",
        "    self.W_hidden, self.b_hidden = [], []\n",
        "    self.W_mask_hidden = []\n",
        "    \n",
        "    # create weights of hidden layers\n",
        "    for i in range(len(self.hidden_sizes)):\n",
        "      # create random weights and bias\n",
        "      W, b = self.build_weight(shape)\n",
        "      # create mask according to the indices\n",
        "      mask, prev_indices = self.build_weight_mask(shape, prev_indices, output_size, False)\n",
        "      \n",
        "      self.W_hidden.append(W)\n",
        "      self.W_mask_hidden.append(mask)\n",
        "      self.b_hidden.append(b)\n",
        "      \n",
        "      if i + 1 < len(self.hidden_sizes):\n",
        "        # update the shape of the next layer\n",
        "        shape = (self.hidden_sizes[i], self.hidden_sizes[i + 1])\n",
        "   \n",
        "    \n",
        "    # create weights of last layer\n",
        "    shape = (self.hidden_sizes[-1], output_size)\n",
        "    # create random weights and bias\n",
        "    W, b = self.build_weight(shape)\n",
        "    # create mask according to the indices\n",
        "    mask, _ = self.build_weight_mask(shape, prev_indices, output_size, True)\n",
        "    \n",
        "    self.W_output, self.b_output = W, b\n",
        "    self.W_mask_output = mask\n",
        "\n",
        "    # create weights of connection between input and output\n",
        "    shape = (input_size, output_size)\n",
        "    # create random weights and bias\n",
        "    W, _ = self.build_weight(shape, False)\n",
        "    # create mask according to the indices\n",
        "    mask, _ = self.build_weight_mask(shape, self.initial_indices, output_size, True)\n",
        "    \n",
        "    self.W_in_out = W\n",
        "    self.W_mask_in_out = mask\n",
        "    \n",
        "  \n",
        "  def build_network(self, input_data, input_size, output_size):\n",
        "    \"\"\"Neural network definition\n",
        "    \n",
        "    Args:\n",
        "        input_data: (array) array with the input data (variables)\n",
        "        input_size: (int) input size\n",
        "        output_size: (int) output size\n",
        "        \n",
        "    Returns:\n",
        "        output: (array) array with the output data (conditional probs)\n",
        "    \"\"\"\n",
        "    output = input_data\n",
        "    \n",
        "    # create hidden layers\n",
        "    for i in range(len(self.hidden_sizes)):\n",
        "      W, b = self.W_hidden[i], self.b_hidden[i]\n",
        "      W_mask = self.W_mask_hidden[i]\n",
        "      # use the mask over the weights\n",
        "      W_masked = (W * W_mask)\n",
        "      # use the new weights in the network\n",
        "      output = tf.nn.relu(tf.matmul(output, W_masked) + b)\n",
        "    \n",
        "    # create last layer\n",
        "    W, b = self.W_output, self.b_output\n",
        "    W_mask = self.W_mask_output\n",
        "    # use the mask over the weights\n",
        "    W_masked = (W * W_mask)\n",
        "    # use the new weights in the network\n",
        "    # bias + (V dot M_v)h(x)\n",
        "    output = tf.matmul(output, W_masked) + b\n",
        "    \n",
        "    # create connection between input and output    \n",
        "    W = self.W_in_out\n",
        "    W_mask = self.W_mask_in_out\n",
        "    # use the mask over the weights\n",
        "    W_masked = (W * W_mask)\n",
        "    # out_act(bias + (V dot M_v)h(x) + (A dot M_v)x) \n",
        "    output = tf.nn.sigmoid(output + tf.matmul(input_data, W_masked))\n",
        "    \n",
        "    return output\n",
        " \n",
        "\n",
        "  def validate(self, X_val, batch_size= -1):\n",
        "    \"\"\"Validate dataset after training\n",
        "    \n",
        "    Args:\n",
        "        X_val: (array) array with validation data\n",
        "        batch_size: (int) batch size\n",
        "        \n",
        "    Returns:\n",
        "        avg_loss: (float) average loss\n",
        "    \"\"\"\n",
        "    if batch_size == -1:\n",
        "      batch_size = self.batch_size\n",
        "    num_elements = X_val.shape[0]\n",
        "    num_batches = num_elements // batch_size\n",
        "    avg_val_loss = 0.0\n",
        "    for i in range(num_batches):\n",
        "      val_batch = X_val[i*batch_size:i*batch_size+batch_size]\n",
        "      #print val_batch.shape\n",
        "      _loss = self.sess.run(self.loss, feed_dict={self.input_data:val_batch})\n",
        "      #_loss = self.sess.run(self.val_model['loss'], feed_dict={self.input_data:val_batch})\n",
        "      avg_val_loss += _loss\n",
        "    avg_val_loss /= num_batches\n",
        "    return avg_val_loss\n",
        "  \n",
        "  \n",
        "  def binary_cross_entropy(self, p, q):    \n",
        "    \"\"\"Binary Cross Entropy between the true and predicted outputs\n",
        "       loss = (1/n) * -Σ(real*log(predicted) + (1 - real)*log(1 - predicted))\n",
        "    Args:\n",
        "        p: (array) array containing the true labels\n",
        "        q: (array) array containing the predicted labels\n",
        "\n",
        "    Returns:\n",
        "        output: (array/float) mean of all the sample losses\n",
        "    \"\"\"\n",
        "    loss = -tf.reduce_sum(p * tf.log(q + 1e-8) + (1 - p) * tf.log(1 - q  + 1e-8), axis=1)\n",
        "    return tf.reduce_mean(loss)\n",
        "    \n",
        "\n",
        "  def train(self, X_train, X_val):\n",
        "    \"\"\"Train the model\n",
        "    Args:\n",
        "        X_train: (array) array containing the training data\n",
        "        X_val: (array) array containing the validation data\n",
        "\n",
        "    Returns:\n",
        "        None but different values will be saved during the training process\n",
        "        for instance: the history of train/val loss\n",
        "    \"\"\"\n",
        "    self.input_data = tf.placeholder(tf.float32, shape=None)\n",
        "    \n",
        "    input_size = X_train.shape[-1]\n",
        "    output_size = X_train.shape[-1]\n",
        "    self.input_size = input_size\n",
        "    \n",
        "    # initialize weights\n",
        "    self.initialize_weights(input_size, output_size)\n",
        "\n",
        "    # build network\n",
        "    self.output = self.build_network(self.input_data, input_size, output_size)\n",
        "    # loss function\n",
        "    self.loss = self.binary_cross_entropy(self.input_data, self.output)\n",
        "    # optimizer\n",
        "    optimizer = tf.train.AdamOptimizer(learning_rate=self.learning_rate)\n",
        "    train_op = optimizer.minimize(self.loss)\n",
        "\n",
        "    # initialize variables\n",
        "    init_op = tf.global_variables_initializer()\n",
        "    \n",
        "    # set batch variables\n",
        "    batch_size = self.batch_size\n",
        "    num_train_elements = X_train.shape[0]\n",
        "    num_batches = num_train_elements // batch_size\n",
        "\n",
        "    history_train = []\n",
        "    history_val = []\n",
        "\n",
        "    self.sess.run(init_op)\n",
        "    # iterate over the specified number of epochs\n",
        "    for e in range(self.num_epochs):    \n",
        "      #if e > 0 and e % 10 == 0:\n",
        "      #  learning_rate = learning_rate * 0.5\n",
        "\n",
        "      # training phase\n",
        "      avg_train_loss = 0.0\n",
        "      for i in range(num_batches):\n",
        "        train_batch = X_train[i*batch_size:i*batch_size+batch_size]\n",
        "        _loss, _ = self.sess.run([self.loss, train_op],\n",
        "                                    feed_dict={self.input_data:train_batch})\n",
        "        avg_train_loss += _loss\n",
        "      avg_train_loss /= num_batches\n",
        "      # save results\n",
        "      history_train.append(avg_train_loss)\n",
        "\n",
        "      # validation phase\n",
        "      avg_val_loss = self.validate(X_val)\n",
        "      # save results      \n",
        "      history_val.append(avg_val_loss)\n",
        "\n",
        "      if (e + 1) % self.verbose == 0:\n",
        "        print(\"(%d/%d) training loss: %lf, validation loss: %lf\" % (e + 1, self.num_epochs, avg_train_loss, avg_val_loss))\n",
        "\n",
        "    self.history_val = history_val\n",
        "    self.history_train = history_train\n",
        "\n",
        "  \n",
        "  def test(self, X_test, batch_size=-1):\n",
        "    \"\"\"Test dataset after training\n",
        "    \n",
        "    Args:\n",
        "        X_test: (array) array with test data\n",
        "        batch_size: (int) batch size\n",
        "        \n",
        "    Returns:\n",
        "        avg_loss: (float) average loss\n",
        "    \"\"\"\n",
        "    return self.validate(X_test, batch_size)\n",
        "  \n",
        "  \n",
        "  def image_generation(self, num_samples=10):\n",
        "    \"\"\"Random image generation\n",
        "    \n",
        "    Args:\n",
        "        num_samples: (int) number of random images to generate\n",
        "        \n",
        "    Returns:\n",
        "        x_sample: (array) generated images\n",
        "    \"\"\"\n",
        "    # initialize random input data\n",
        "    x_sample = np.random.rand(num_samples, self.input_size)\n",
        "    # for each variable perform a forward call\n",
        "    # then sample from a bernoulli distribution\n",
        "    # set the sampled value in its corresponding index in random_input\n",
        "    # repeat the process\n",
        "    for i in range(self.input_size):\n",
        "      output = self.sess.run(self.output, feed_dict={self.input_data:x_sample})\n",
        "      indices = self.initial_indices\n",
        "      current_variable = np.argmax(indices == i)\n",
        "      \n",
        "      # sampling from bernoulli distribution\n",
        "      p = np.random.rand(num_samples)\n",
        "      x_sample[:,current_variable] = (output[:,current_variable] > p).astype(float)\n",
        "      \n",
        "    return x_sample"
      ],
      "execution_count": 0,
      "outputs": []
    },
    {
      "metadata": {
        "id": "nQHtjUbNWl0I",
        "colab_type": "text"
      },
      "cell_type": "markdown",
      "source": [
        "## Train Model"
      ]
    },
    {
      "metadata": {
        "id": "cC822SebWpkl",
        "colab_type": "text"
      },
      "cell_type": "markdown",
      "source": [
        "Model initialization with different parameters:"
      ]
    },
    {
      "metadata": {
        "id": "EijGe-_AX6CX",
        "colab_type": "code",
        "outputId": "038f7156-0a33-45a7-a6d9-891d41e8dd87",
        "colab": {
          "base_uri": "https://localhost:8080/",
          "height": 139
        }
      },
      "cell_type": "code",
      "source": [
        "model = MADE(num_epochs=20, \n",
        "             batch_size=32, \n",
        "             learning_rate= 0.0005, \n",
        "             hidden_sizes=[700, 700],\n",
        "             natural_ordering = True,\n",
        "             verbose = 1)"
      ],
      "execution_count": 0,
      "outputs": [
        {
          "output_type": "stream",
          "text": [
            "\n",
            "WARNING: The TensorFlow contrib module will not be included in TensorFlow 2.0.\n",
            "For more information, please see:\n",
            "  * https://github.com/tensorflow/community/blob/master/rfcs/20180907-contrib-sunset.md\n",
            "  * https://github.com/tensorflow/addons\n",
            "If you depend on functionality not listed there, please file an issue.\n",
            "\n"
          ],
          "name": "stdout"
        }
      ]
    },
    {
      "metadata": {
        "id": "wzJgr8qTWthC",
        "colab_type": "text"
      },
      "cell_type": "markdown",
      "source": [
        "Training model with validation data:"
      ]
    },
    {
      "metadata": {
        "id": "7Op0cWnChsr4",
        "colab_type": "code",
        "outputId": "0c0feb97-a326-4941-d45f-476593bfe45b",
        "colab": {
          "base_uri": "https://localhost:8080/",
          "height": 489
        }
      },
      "cell_type": "code",
      "source": [
        "model.train(X_train, X_val)"
      ],
      "execution_count": 0,
      "outputs": [
        {
          "output_type": "stream",
          "text": [
            "WARNING:tensorflow:From /usr/local/lib/python2.7/dist-packages/tensorflow/python/framework/op_def_library.py:263: colocate_with (from tensorflow.python.framework.ops) is deprecated and will be removed in a future version.\n",
            "Instructions for updating:\n",
            "Colocations handled automatically by placer.\n",
            "WARNING:tensorflow:From /usr/local/lib/python2.7/dist-packages/tensorflow/python/ops/math_ops.py:3066: to_int32 (from tensorflow.python.ops.math_ops) is deprecated and will be removed in a future version.\n",
            "Instructions for updating:\n",
            "Use tf.cast instead.\n",
            "(1/20) training loss: 150.258830, validation loss: 112.311130\n",
            "(2/20) training loss: 100.775041, validation loss: 93.510121\n",
            "(3/20) training loss: 87.854169, validation loss: 84.995914\n",
            "(4/20) training loss: 81.147974, validation loss: 80.210748\n",
            "(5/20) training loss: 77.031632, validation loss: 77.199234\n",
            "(6/20) training loss: 74.238993, validation loss: 75.146791\n",
            "(7/20) training loss: 72.208440, validation loss: 73.701270\n",
            "(8/20) training loss: 70.659326, validation loss: 72.629016\n",
            "(9/20) training loss: 69.432258, validation loss: 71.817669\n",
            "(10/20) training loss: 68.433760, validation loss: 71.201185\n",
            "(11/20) training loss: 67.601587, validation loss: 70.712034\n",
            "(12/20) training loss: 66.894781, validation loss: 70.331356\n",
            "(13/20) training loss: 66.284686, validation loss: 70.028711\n",
            "(14/20) training loss: 65.749856, validation loss: 69.791601\n",
            "(15/20) training loss: 65.277057, validation loss: 69.605299\n",
            "(16/20) training loss: 64.854647, validation loss: 69.462862\n",
            "(17/20) training loss: 64.473284, validation loss: 69.358594\n",
            "(18/20) training loss: 64.126972, validation loss: 69.271008\n",
            "(19/20) training loss: 63.809733, validation loss: 69.206061\n",
            "(20/20) training loss: 63.519150, validation loss: 69.170846\n"
          ],
          "name": "stdout"
        }
      ]
    },
    {
      "metadata": {
        "id": "LB1D4MaJW9SG",
        "colab_type": "text"
      },
      "cell_type": "markdown",
      "source": [
        "## Test Model"
      ]
    },
    {
      "metadata": {
        "id": "KXUbLGypXB39",
        "colab_type": "text"
      },
      "cell_type": "markdown",
      "source": [
        "Test the trained model with the test dataset and obtain the loss value"
      ]
    },
    {
      "metadata": {
        "id": "TJdK_RwhXG1E",
        "colab_type": "code",
        "outputId": "c83cb4da-ba10-4ea8-f994-e9b1c662486e",
        "colab": {
          "base_uri": "https://localhost:8080/",
          "height": 34
        }
      },
      "cell_type": "code",
      "source": [
        "test_loss = model.test(X_test)\n",
        "\n",
        "print(\"Test Loss: %lf\" % test_loss)"
      ],
      "execution_count": 0,
      "outputs": [
        {
          "output_type": "stream",
          "text": [
            "Test Loss: 68.329757\n"
          ],
          "name": "stdout"
        }
      ]
    },
    {
      "metadata": {
        "id": "d0YaIZ7JXNug",
        "colab_type": "text"
      },
      "cell_type": "markdown",
      "source": [
        "## Image Generation"
      ]
    },
    {
      "metadata": {
        "id": "rCpO1O1yOjRe",
        "colab_type": "code",
        "colab": {}
      },
      "cell_type": "code",
      "source": [
        "generated = model.image_generation(100)"
      ],
      "execution_count": 0,
      "outputs": []
    },
    {
      "metadata": {
        "id": "-bHypSVQOuVq",
        "colab_type": "code",
        "outputId": "c1f9287b-341f-4a46-9a96-a5c697a1c7b1",
        "colab": {
          "base_uri": "https://localhost:8080/",
          "height": 595
        }
      },
      "cell_type": "code",
      "source": [
        "display_dataset(generated, img_rows, img_cols, 10)"
      ],
      "execution_count": 0,
      "outputs": [
        {
          "output_type": "display_data",
          "data": {
            "image/png": "[encoded data removed]",
            "text/plain": [
              "<Figure size 720x720 with 1 Axes>"
            ]
          },
          "metadata": {
            "tags": []
          }
        }
      ]
    }
  ]
}