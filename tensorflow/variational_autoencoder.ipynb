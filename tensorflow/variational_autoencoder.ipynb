{
 "cells": [
  {
   "cell_type": "code",
   "execution_count": 1,
   "metadata": {
    "collapsed": true
   },
   "outputs": [],
   "source": [
    "import tensorflow as tf\n",
    "import numpy as np\n",
    "import matplotlib.pyplot as plt\n",
    "%matplotlib inline"
   ]
  },
  {
   "cell_type": "markdown",
   "metadata": {},
   "source": [
    "### Load MNIST images "
   ]
  },
  {
   "cell_type": "code",
   "execution_count": 2,
   "metadata": {
    "collapsed": false
   },
   "outputs": [
    {
     "name": "stdout",
     "output_type": "stream",
     "text": [
      "Successfully downloaded train-images-idx3-ubyte.gz 9912422 bytes.\n",
      "Extracting MNIST_data/train-images-idx3-ubyte.gz\n",
      "Successfully downloaded train-labels-idx1-ubyte.gz 28881 bytes.\n",
      "Extracting MNIST_data/train-labels-idx1-ubyte.gz\n",
      "Successfully downloaded t10k-images-idx3-ubyte.gz 1648877 bytes.\n",
      "Extracting MNIST_data/t10k-images-idx3-ubyte.gz\n",
      "Successfully downloaded t10k-labels-idx1-ubyte.gz 4542 bytes.\n",
      "Extracting MNIST_data/t10k-labels-idx1-ubyte.gz\n"
     ]
    }
   ],
   "source": [
    "from tensorflow.examples.tutorials.mnist import input_data\n",
    "mnist = input_data.read_data_sets('MNIST_data', one_hot=True)"
   ]
  },
  {
   "cell_type": "code",
   "execution_count": 3,
   "metadata": {
    "collapsed": false
   },
   "outputs": [
    {
     "name": "stdout",
     "output_type": "stream",
     "text": [
      "Number of Samples: 55000. Feature Dimension: 784\n"
     ]
    }
   ],
   "source": [
    "n_samples = mnist.train.num_examples\n",
    "m_features = mnist.train.images.shape[1]\n",
    "print(\"Number of Samples: {}. Feature Dimension: {}\".format(n_samples, m_features))"
   ]
  },
  {
   "cell_type": "markdown",
   "metadata": {},
   "source": [
    "### Data Visualization"
   ]
  },
  {
   "cell_type": "code",
   "execution_count": 4,
   "metadata": {
    "collapsed": false
   },
   "outputs": [
    {
     "data": {
      "image/png": "[encoded data removed]",
      "text/plain": [
       "<matplotlib.figure.Figure at 0x7f1050086690>"
      ]
     },
     "metadata": {},
     "output_type": "display_data"
    }
   ],
   "source": [
    "plt.figure(figsize=[6,6])\n",
    "for i in range(0,9):\n",
    "    plt.subplot(3,3,i+1)\n",
    "    plt.imshow(np.reshape(-mnist.train.images[i], (28, 28)), interpolation='none',cmap=plt.get_cmap('gray'))\n",
    "    plt.axis('off')"
   ]
  },
  {
   "cell_type": "markdown",
   "metadata": {},
   "source": [
    "### Variational Autoencoder Class\n",
    "Variational Autoencoder consist of an encoder, a decoder and a loss function.\n",
    "\n",
    "#### Encoder\n",
    "Encoder network receives as input the image representation, in case of MNIST dataset it is a 28x28 pixel image.\n",
    "The encoder *‘encodes’* the data which is 784-dimensional into a latent (hidden) representation space z, which is much less than 784 dimensions. \n",
    "\n",
    "In our class, the encoder calculates the mean and standard deviation of the gaussian which will produce the latent variable z.\n",
    "\n",
    "#### Decoder\n",
    "Decoder network receives as input the latent variable z. The decoder *‘decodes’* the real-valued numbers in z into 784 real-valued numbers between 0 and 1. Information is lost because it goes from a smaller to a larger dimensionality.\n",
    "\n",
    "#### Loss function\n",
    "The loss function of the variational autoencoder is the negative log-likelihood with a regularizer.\n",
    "\\begin{align}\n",
    "L^{\\tt{v}} & = \\mathbb{E}_{q(z|x^{(i)})}\\left( \\log\\left(p(x^{(i)}|z)\\right)\\right) - D_{\\tt{KL}} \\left( q(z|x^{(i)}) || p(z) \\right)&\\\\\n",
    "\\end{align}\n",
    "\n",
    "The first term is the reconstruction loss, or expected negative log-likelihood of the i-th datapoint. This term encourages the decoder to learn to reconstruct the data. If the decoder’s output does not reconstruct the data well, it will incur a large cost in this loss function.\n",
    "\n",
    "The second term is a regularizer. This is the Kullback-Leibler divergence between the encoder’s distribution q(z∣x) and p(z). This divergence measures how much information is lost when using q to represent p. It is one measure of how close q is to p."
   ]
  },
  {
   "cell_type": "code",
   "execution_count": 5,
   "metadata": {
    "collapsed": true
   },
   "outputs": [],
   "source": [
    "### Auxiliary Methods for Network Creation\n",
    "def weight_variable(shape):\n",
    "    return tf.Variable(tf.truncated_normal(shape, stddev=0.1))\n",
    "\n",
    "def bias_variable(shape):\n",
    "    return tf.Variable(tf.constant(0.1, shape=shape))"
   ]
  },
  {
   "cell_type": "code",
   "execution_count": 6,
   "metadata": {
    "collapsed": false
   },
   "outputs": [],
   "source": [
    "class VariationalAutoencoder():\n",
    "    \n",
    "    # VAE initialization\n",
    "    def __init__(self, **options ):\n",
    "        #latent space dimension (z)\n",
    "        self.latent_space_dim = options.get(\"latent_space_dim\", 20)\n",
    "        #number of hidden nodes in networks - subject to future improvements\n",
    "        self.num_hidden = options.get(\"num_hidden\", 500)\n",
    "        self.sess = tf.Session()\n",
    "    \n",
    "    # Build a VAE from data X ( num_samples x num_features ) \n",
    "    def fit(self, X):\n",
    "        self.num_samples = X.shape[0]\n",
    "        self.num_features = X.shape[1]\n",
    "        self.x = tf.placeholder(tf.float32, [None, self.num_features]) \n",
    "        self.data = X\n",
    "    \n",
    "    # Encoder network\n",
    "    # input: data (num_samples x num_features )\n",
    "    # output: parameters for variance and standard deviation\n",
    "    def encode(self, X):\n",
    "        with tf.variable_scope(\"encoder\"):\n",
    "            #first hidden_layer\n",
    "            W1 = weight_variable([self.num_features, self.num_hidden]) \n",
    "            b1 = bias_variable([self.num_hidden])\n",
    "            h1 = tf.nn.tanh( tf.matmul(X,W1) + b1 )\n",
    "            \n",
    "            #second hidden_layer\n",
    "            W2 = weight_variable([self.num_hidden, self.num_hidden])\n",
    "            b2 = bias_variable([self.num_hidden])\n",
    "            h2 = tf.nn.tanh( tf.matmul(h1, W2) + b2 )\n",
    "            \n",
    "            #mean and sigma layer\n",
    "            W3 = weight_variable([self.num_hidden,self.latent_space_dim])\n",
    "            b3 = bias_variable([self.latent_space_dim])\n",
    "            W_mean = tf.matmul(h2, W3 ) + b3 \n",
    "            \n",
    "            W4 = weight_variable([self.num_hidden,self.latent_space_dim])\n",
    "            b4 = bias_variable([self.latent_space_dim])\n",
    "            W_sigma = tf.matmul(h2,W4) + b4 \n",
    "            \n",
    "        return W_mean, W_sigma\n",
    "    \n",
    "    \n",
    "    # Decoder network\n",
    "    # input: representation z previously obtained from encoder\n",
    "    # output: reconstruction of initial data X\n",
    "    def decode(self,z):\n",
    "        with tf.variable_scope(\"decoder\"):\n",
    "            #first hidden layer\n",
    "            W1 = weight_variable([self.latent_space_dim, self.num_hidden])\n",
    "            b1 = bias_variable([self.num_hidden])\n",
    "            h1 = tf.nn.tanh(tf.matmul(z, W1) + b1)\n",
    "            \n",
    "            #second hidden layer\n",
    "            W2 = weight_variable([self.num_hidden,self.num_hidden])\n",
    "            b2 = bias_variable([self.num_hidden])\n",
    "            h2 = tf.nn.tanh(tf.matmul(h1, W2) + b2 )\n",
    "            \n",
    "            #reconstruction layer\n",
    "            W3 = weight_variable([self.num_hidden, self.num_features])\n",
    "            b3 = bias_variable([self.num_features])\n",
    "            generated = tf.nn.sigmoid( tf.matmul(h2, W3) + b3 )\n",
    "            \n",
    "        return generated    \n",
    "    \n",
    "    # cross_entropy(t,o) = -(t * log(o) + (1-t) * log(1-o)) \n",
    "    @staticmethod\n",
    "    def binary_cross_entropy(x, x_reconstructed, offset = 1e-8):\n",
    "        return -tf.reduce_sum( x * tf.log( offset + x_reconstructed ) + \n",
    "                              (1 - x) * tf.log( offset + 1 - x_reconstructed ) , 1)\n",
    "    \n",
    "    # divergence = -1/2 * sum( 1 + log(sigma^2) - sigma^2 - mean^2 )\n",
    "    @staticmethod\n",
    "    def KL_divergence(z_mean, z_sigma):\n",
    "        return -0.5 * tf.reduce_sum(1 + tf.log(tf.square(z_sigma)) - \n",
    "                                    tf.square(z_sigma) - tf.square(z_mean), 1 ) \n",
    "    \n",
    "    # Train VAE\n",
    "    def train(self, **options ):\n",
    "        batch_size = options.get(\"batch_size\", 100 )\n",
    "        epochs = options.get(\"epochs\", 20)\n",
    "        learning_rate = options.get(\"learning_rate\", 0.001)\n",
    "        \n",
    "        # Calculate mean and std from input data\n",
    "        self.z_mean, self.z_sigma = self.encode(self.x)\n",
    "\n",
    "        # Reparametrization trick - add gaussian noise\n",
    "        noise = tf.random_normal([batch_size, self.latent_space_dim], mean = 0 , stddev = 1, dtype= tf.float32)\n",
    "        z = self.z_mean + self.z_sigma * noise\n",
    "        \n",
    "        # Construct data from latent sample z\n",
    "        self.generated = self.decode(z)\n",
    "\n",
    "        # Loss = Reconstruction loss + KL-divergence cost\n",
    "        divergence_cost = self.KL_divergence(self.z_mean, self.z_sigma)\n",
    "        reconstruction_loss = self.binary_cross_entropy(self.x, self.generated)\n",
    "        total_loss = tf.reduce_mean(reconstruction_loss + divergence_cost)\n",
    "        \n",
    "        # Optimizer\n",
    "        train_step = tf.train.AdamOptimizer(learning_rate=learning_rate).minimize(total_loss)\n",
    "        \n",
    "        self.sess.run(tf.initialize_all_variables())\n",
    "        batches = int(self.num_samples/batch_size)\n",
    "        \n",
    "        # Number of iterations\n",
    "        for epoch in range(epochs):\n",
    "            avg_cost = 0\n",
    "            avg_divergence = 0\n",
    "            avg_reconstruction = 0\n",
    "            \n",
    "            # Iterate on each batch\n",
    "            for i in range(batches):\n",
    "                # Get current batch\n",
    "                x_batch = self.data[i * batch_size: i * batch_size + batch_size ][:]\n",
    "                \n",
    "                # Train VAE and get current losses\n",
    "                _, kl_cost, rec_loss, total_cost = self.sess.run( (train_step, divergence_cost, reconstruction_loss, total_loss ), \n",
    "                                                                  feed_dict={self.x:x_batch} )\n",
    "                avg_divergence += np.mean( kl_cost )\n",
    "                avg_reconstruction += np.mean( rec_loss )\n",
    "                avg_cost += total_cost\n",
    "            \n",
    "            avg_reconstruction /= batches\n",
    "            avg_divergence /= batches\n",
    "            avg_cost /= batches\n",
    "            print(\"Epoch: {}, Divergence={}, Reconstruction={}, Cost={}\".format(epoch, avg_divergence, avg_reconstruction, avg_cost))\n",
    "\n",
    "            \n",
    "    # Visualize original and generated sample\n",
    "    # input: sample with dimensions (1 x num_features)\n",
    "    def visualize_generation(self, x_sample):\n",
    "        x_reconstruct = self.sess.run(self.generated, feed_dict={self.x: x_sample})\n",
    "        plt.figure()\n",
    "        plt.subplot(1,2,1)\n",
    "        plt.imshow(x_sample.reshape(28, 28), vmin=0, vmax=1,interpolation='none',cmap=plt.get_cmap('gray'))\n",
    "        plt.axis('off')\n",
    "        plt.subplot(1,2,2)\n",
    "        plt.imshow(x_reconstruct[0].reshape(28, 28), vmin=0, vmax=1,interpolation='none',cmap=plt.get_cmap('gray'))\n",
    "        plt.axis('off')"
   ]
  },
  {
   "cell_type": "markdown",
   "metadata": {},
   "source": [
    "#### Testing Variational Autoencoder"
   ]
  },
  {
   "cell_type": "code",
   "execution_count": 7,
   "metadata": {
    "collapsed": false
   },
   "outputs": [
    {
     "name": "stdout",
     "output_type": "stream",
     "text": [
      "Epoch: 0, Divergence=74.0814271756, Reconstruction=199.609449464, Cost=273.690876651\n",
      "Epoch: 1, Divergence=37.2701346938, Reconstruction=174.573390299, Cost=211.84352547\n",
      "Epoch: 2, Divergence=63.6690825439, Reconstruction=173.130652307, Cost=236.799734771\n",
      "Epoch: 3, Divergence=29.1018327862, Reconstruction=165.328607668, Cost=194.430440989\n",
      "Epoch: 4, Divergence=25.9699227574, Reconstruction=154.902211004, Cost=180.872133692\n",
      "Epoch: 5, Divergence=26.1603020944, Reconstruction=154.719204069, Cost=180.879505855\n",
      "Epoch: 6, Divergence=20.5181058755, Reconstruction=147.914539981, Cost=168.432646248\n",
      "Epoch: 7, Divergence=13.0161044306, Reconstruction=133.587953827, Cost=146.604058724\n",
      "Epoch: 8, Divergence=15.5962938646, Reconstruction=135.626199236, Cost=151.222493013\n",
      "Epoch: 9, Divergence=13.159309959, Reconstruction=124.745104345, Cost=137.90441462\n"
     ]
    }
   ],
   "source": [
    "# VAE Instantiation\n",
    "VAE = VariationalAutoencoder(latent_space_dim = 20)\n",
    "\n",
    "# Use MNIST images\n",
    "VAE.fit(mnist.train.images)\n",
    "\n",
    "# Train VAE\n",
    "batch_size = 64\n",
    "VAE.train(batch_size = batch_size, epochs = 10, learning_rate = 0.001 )"
   ]
  },
  {
   "cell_type": "code",
   "execution_count": 35,
   "metadata": {
    "collapsed": false
   },
   "outputs": [
    {
     "data": {
      "image/png": "[encoded data removed]",
      "text/plain": [
       "<matplotlib.figure.Figure at 0x7f10d0f34350>"
      ]
     },
     "metadata": {},
     "output_type": "display_data"
    },
    {
     "data": {
      "image/png": "[encoded data removed]",
      "text/plain": [
       "<matplotlib.figure.Figure at 0x7f1018702b50>"
      ]
     },
     "metadata": {},
     "output_type": "display_data"
    }
   ],
   "source": [
    "# Visualize custom image from MNIST test images\n",
    "x_sample = mnist.test.next_batch(batch_size)[0]\n",
    "image_index = 10\n",
    "VAE.visualize_generation(x_sample[image_index:image_index + 1])\n",
    "plt.figure\n",
    "image_index = 11\n",
    "VAE.visualize_generation(x_sample[image_index:image_index + 1])"
   ]
  },
  {
   "cell_type": "code",
   "execution_count": null,
   "metadata": {
    "collapsed": true
   },
   "outputs": [],
   "source": []
  }
 ],
 "metadata": {
  "kernelspec": {
   "display_name": "Python 2",
   "language": "python",
   "name": "python2"
  },
  "language_info": {
   "codemirror_mode": {
    "name": "ipython",
    "version": 2
   },
   "file_extension": ".py",
   "mimetype": "text/x-python",
   "name": "python",
   "nbconvert_exporter": "python",
   "pygments_lexer": "ipython2",
   "version": "2.7.6"
  }
 },
 "nbformat": 4,
 "nbformat_minor": 0
}
