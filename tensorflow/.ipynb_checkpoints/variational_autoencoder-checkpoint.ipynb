{
 "cells": [
  {
   "cell_type": "code",
   "execution_count": 1,
   "metadata": {
    "collapsed": true
   },
   "outputs": [],
   "source": [
    "import tensorflow as tf\n",
    "import numpy as np\n",
    "import matplotlib.pyplot as plt\n",
    "%matplotlib inline"
   ]
  },
  {
   "cell_type": "code",
   "execution_count": null,
   "metadata": {
    "collapsed": false
   },
   "outputs": [],
   "source": [
    "###Load MNIST images\n",
    "from tensorflow.examples.tutorials.mnist import input_data\n",
    "mnist = input_data.read_data_sets('MNIST_data', one_hot=True)"
   ]
  },
  {
   "cell_type": "code",
   "execution_count": 7,
   "metadata": {
    "collapsed": false
   },
   "outputs": [
    {
     "name": "stdout",
     "output_type": "stream",
     "text": [
      "Number of Samples: 55000. Feature Dimension: 784\n"
     ]
    }
   ],
   "source": [
    "n_samples = mnist.train.num_examples\n",
    "m_features = mnist.train.images.shape[1]\n",
    "print(\"Number of Samples: {}. Feature Dimension: {}\".format(n_samples, m_features))"
   ]
  },
  {
   "cell_type": "code",
   "execution_count": 8,
   "metadata": {
    "collapsed": false
   },
   "outputs": [
    {
     "data": {
      "text/plain": [
       "<matplotlib.image.AxesImage at 0x5280710>"
      ]
     },
     "execution_count": 8,
     "metadata": {},
     "output_type": "execute_result"
    },
    {
     "data": {
      "image/png": "[encoded data removed]",
      "text/plain": [
       "<matplotlib.figure.Figure at 0x5259390>"
      ]
     },
     "metadata": {},
     "output_type": "display_data"
    }
   ],
   "source": [
    "##Data Visualization\n",
    "plt.imshow(np.reshape(-mnist.train.images[40], (28, 28)), interpolation='none',cmap=plt.get_cmap('gray'))"
   ]
  },
  {
   "cell_type": "code",
   "execution_count": 112,
   "metadata": {
    "collapsed": false
   },
   "outputs": [
    {
     "data": {
      "text/plain": [
       "'   \\n    def visualize_generation(self, x_sample):\\n        with tf.Session() as sess:\\n            x_reconstruct,z_vals,z_mean_val,z_log_sigma_sq_val = sess.run((self.generated,self.z, \\n                                                                           self.z_mean, self.z_sigma), \\n                                                                           feed_dict={self.x: x_sample})\\n\\n            plt.figure(figsize=(8, 12))\\n            for i in range(5):\\n                plt.subplot(5, 3, 3*i + 1)\\n                plt.imshow(x_sample[i].reshape(28, 28), vmin=0, vmax=1,  interpolation=\\'none\\',cmap=plt.get_cmap(\\'gray\\'))\\n                plt.title(\"Test input\")\\n\\n                #plt.colorbar()\\n                plt.subplot(5, 3, 3*i + 2)\\n                plt.scatter(z_vals[:,0],z_vals[:,1], c=\\'gray\\', alpha=0.5)\\n                plt.scatter(z_mean_val[i,0],z_mean_val[i,1], c=\\'green\\', s=64, alpha=0.5)\\n                plt.scatter(z_vals[i,0],z_vals[i,1], c=\\'blue\\', s=16, alpha=0.5)\\n\\n                plt.xlim((-3,3))\\n                plt.ylim((-3,3))\\n                plt.title(\"Latent Space\")\\n\\n                plt.subplot(5, 3, 3*i + 3)\\n                plt.imshow(x_reconstruct[i].reshape(28, 28), vmin=0, vmax=1, interpolation=\\'none\\',cmap=plt.get_cmap(\\'gray\\'))\\n                plt.title(\"Reconstruction\")\\n                #plt.colorbar()\\n            plt.tight_layout()\\n'"
      ]
     },
     "execution_count": 112,
     "metadata": {},
     "output_type": "execute_result"
    }
   ],
   "source": [
    "def weight_variable(shape):\n",
    "    return tf.Variable(tf.truncated_normal(shape, stddev=0.1))\n",
    "\n",
    "def bias_variable(shape):\n",
    "    return tf.Variable(tf.constant(0.1, shape=shape))\n",
    "\n",
    "class VariationalAutoencoder():\n",
    "    def __init__(self, **options ):\n",
    "        self.latent_space_dim = options.get(\"latent_space_dim\")\n",
    "        self.sess = tf.Session()\n",
    "        #print self.latent_space_dim\n",
    "        \n",
    "    #def ___init__(self, data):\n",
    "        #self.data = data\n",
    "        #n = data.shape[0]\n",
    "        #m = data.shape[1]\n",
    "        #self.x = tf.placeholder(tf.float32, [None, m])\n",
    "        #self.y = tf.placeholder(tf.float32, [None, m])\n",
    "    \n",
    "    def fit(self, X):\n",
    "        self.num_samples = X.shape[0]\n",
    "        #self.num_classes = Y.shape[1]\n",
    "        self.num_features = X.shape[1]\n",
    "        self.x = tf.placeholder(tf.float32, [None, self.num_features]) \n",
    "        #self.y = tf.placeholder(tf.float32, [None, self.num_classes])\n",
    "        self.X_train = X\n",
    "        #print self.num_samples\n",
    "        #print self.num_features\n",
    "        #print( self.X_train)\n",
    "        #self.y_train = Y\n",
    "    \n",
    "    def encode(self, X):\n",
    "        with tf.variable_scope(\"encoder\"):\n",
    "            #first hidden_layer\n",
    "            W1 = weight_variable([self.num_features, 500]) \n",
    "            b1 = bias_variable([500])\n",
    "            h1 = tf.nn.tanh( tf.matmul(X,W1) + b1 )\n",
    "            \n",
    "            #second hidden_layer\n",
    "            W2 = weight_variable([500, 500])\n",
    "            b2 = bias_variable([500])\n",
    "            h2 = tf.nn.tanh( tf.matmul(h1, W2) + b2 )\n",
    "            \n",
    "            #mean and sigma layer\n",
    "            W3 = weight_variable([500,self.latent_space_dim])\n",
    "            b3 = bias_variable([self.latent_space_dim])\n",
    "            W_mean = tf.matmul(h2, W3 ) + b3 \n",
    "            \n",
    "            W4 = weight_variable([500,self.latent_space_dim])\n",
    "            b4 = bias_variable([self.latent_space_dim])\n",
    "            W_sigma = tf.matmul(h2,W4) + b4 \n",
    "        return W_mean, W_sigma\n",
    "    \n",
    "    def decode(self,z):\n",
    "        with tf.variable_scope(\"decoder\"):\n",
    "            #first hidden layer\n",
    "            W1 = weight_variable([self.latent_space_dim, 500])\n",
    "            b1 = bias_variable([500])\n",
    "            h1 = tf.nn.tanh(tf.matmul(z, W1) + b1)\n",
    "            \n",
    "            #second hidden layer\n",
    "            W2 = weight_variable([500,500])\n",
    "            b2 = bias_variable([500])\n",
    "            h2 = tf.nn.tanh(tf.matmul(h1, W2) + b2 )\n",
    "            \n",
    "            #reconstruction layer\n",
    "            W3 = weight_variable([500, self.num_features])\n",
    "            b3 = bias_variable([self.num_features])\n",
    "            generated = tf.nn.sigmoid( tf.matmul(h2, W3) + b3 )\n",
    "            \n",
    "        return generated    \n",
    "    \n",
    "    ##cross_entropy(t,o) = -(t * log(o) + (1-t) * log(1-o)) \n",
    "    @staticmethod\n",
    "    def binary_cross_entropy(x, x_reconstructed, offset = 1e-8):\n",
    "        return -tf.reduce_sum( x * tf.log( offset + x_reconstructed ) + \n",
    "                              (1 - x) * tf.log( offset + 1 - x_reconstructed ) , 1)\n",
    "    \n",
    "    @staticmethod\n",
    "    def KL_divergence(z_mean, z_sigma):\n",
    "        return -0.5 * tf.reduce_sum(1 + tf.log(tf.square(z_sigma)) - \n",
    "                                    tf.square(z_sigma) - tf.square(z_mean), 1 ) \n",
    "    \n",
    "    def train(self,x_sample, batch_size = 100, epochs = 20 ):\n",
    "        self.z_mean, self.z_sigma = self.encode(self.x)\n",
    "        noise = tf.random_normal([batch_size, self.latent_space_dim], mean = 0 , stddev = 1, dtype= tf.float32)\n",
    "        z = self.z_mean + self.z_sigma * noise\n",
    "        self.generated = self.decode(z)\n",
    "        #generated_flat = tf.reshape(self.generated, [batch_size, 28*28])\n",
    "        \n",
    "        ##Loss = Reconstruction loss + KL-divergence cost\n",
    "        # -divergence = 1/2 * sum( 1 + log(sigma^2) - sigma^2 - mean^2 )\n",
    "        #divergence_cost = -0.5 * tf.reduce_sum(1 + tf.log(tf.square(self.z_sigma)) - tf.square(self.z_sigma) - tf.square(self.z_mean), 1 ) \n",
    "        divergence_cost = self.KL_divergence(self.z_mean, self.z_sigma)\n",
    "        \n",
    "        # binary cross entropy = -(t * log(o) + (1-t) * log(1-o)) \n",
    "        reconstruction_loss = self.binary_cross_entropy(self.x, self.generated)\n",
    "        #offset = 1e-8\n",
    "        #reconstruction_loss = -tf.reduce_sum( self.x * tf.log( offset + self.generated ) + \n",
    "        #                      (1 - self.x) * tf.log( offset + 1 - self.generated ) , 1)\n",
    "        #print( divergence_cost )\n",
    "        total_loss = tf.reduce_mean(reconstruction_loss + divergence_cost)\n",
    "        train_step = tf.train.AdamOptimizer(learning_rate=0.001).minimize(total_loss)\n",
    "        \n",
    "        #saver = tf.train.Saver()\n",
    "        '''\n",
    "        with tf.Session() as sess:\n",
    "            sess.run(tf.initialize_all_variables())\n",
    "            batches = int(self.num_samples/batch_size)\n",
    "            \n",
    "            for epoch in range(epochs):\n",
    "                avg_cost = 0\n",
    "                avg_divergence = 0\n",
    "                avg_reconstruction = 0\n",
    "                for i in range(batches):\n",
    "                    # Shuffle the data\n",
    "                    #print(\"start:{} end:{}\".format(i * batch_size,i * batch_size + batch_size) )\n",
    "                    x_batch = self.X_train[i * batch_size: i * batch_size + batch_size ][:]\n",
    "                    _, kl_cost, rec_loss, total_cost = sess.run( (train_step, divergence_cost, reconstruction_loss, total_loss ), feed_dict={self.x:x_batch} )\n",
    "                    avg_divergence += np.mean( kl_cost )\n",
    "                    avg_reconstruction += np.mean( rec_loss )\n",
    "                    avg_cost += total_cost #avg_cost += total_cost / self.num_samples * batch_size\n",
    "                avg_reconstruction /= batches\n",
    "                avg_divergence /= batches\n",
    "                avg_cost /= batches\n",
    "                print(\"Epoch: {}, Divergence={}, Reconstruction={}, Cost={}\".format(epoch, avg_divergence, avg_reconstruction, avg_cost))\n",
    "            \n",
    "        \n",
    "            x_reconstruct,z_vals,z_mean_val,z_log_sigma_sq_val = sess.run((self.generated,z, \n",
    "                                                                           self.z_mean, self.z_sigma), \n",
    "                                                                           feed_dict={self.x: x_sample})\n",
    "\n",
    "            plt.figure(figsize=(8, 12))\n",
    "            for i in range(5):\n",
    "                plt.subplot(5, 3, 3*i + 1)\n",
    "                plt.imshow(x_sample[i].reshape(28, 28), vmin=0, vmax=1,  interpolation='none',cmap=plt.get_cmap('gray'))\n",
    "                plt.title(\"Test input\")\n",
    "\n",
    "                #plt.colorbar()\n",
    "                plt.subplot(5, 3, 3*i + 2)\n",
    "                plt.scatter(z_vals[:,0],z_vals[:,1], c='gray', alpha=0.5)\n",
    "                plt.scatter(z_mean_val[i,0],z_mean_val[i,1], c='green', s=64, alpha=0.5)\n",
    "                plt.scatter(z_vals[i,0],z_vals[i,1], c='blue', s=16, alpha=0.5)\n",
    "\n",
    "                plt.xlim((-3,3))\n",
    "                plt.ylim((-3,3))\n",
    "                plt.title(\"Latent Space\")\n",
    "\n",
    "                plt.subplot(5, 3, 3*i + 3)\n",
    "                plt.imshow(x_reconstruct[i].reshape(28, 28), vmin=0, vmax=1, interpolation='none',cmap=plt.get_cmap('gray'))\n",
    "                plt.title(\"Reconstruction\")\n",
    "                #plt.colorbar()\n",
    "            plt.tight_layout()\n",
    "            \n",
    "            #save_path = saver.save(sess, \"model/vae.ckpt\") #Saves the weights (not the graph)\n",
    "            #print(\"Model saved in file: {}\".format(save_path))\n",
    "        '''\n",
    "        self.sess.run(tf.initialize_all_variables())\n",
    "        batches = int(self.num_samples/batch_size)\n",
    "            \n",
    "        for epoch in range(epochs):\n",
    "            avg_cost = 0\n",
    "            avg_divergence = 0\n",
    "            avg_reconstruction = 0\n",
    "            for i in range(batches):\n",
    "                    # Shuffle the data\n",
    "                    #print(\"start:{} end:{}\".format(i * batch_size,i * batch_size + batch_size) )\n",
    "                x_batch = self.X_train[i * batch_size: i * batch_size + batch_size ][:]\n",
    "                _, kl_cost, rec_loss, total_cost = self.sess.run( (train_step, divergence_cost, reconstruction_loss, total_loss ), feed_dict={self.x:x_batch} )\n",
    "                avg_divergence += np.mean( kl_cost )\n",
    "                avg_reconstruction += np.mean( rec_loss )\n",
    "                avg_cost += total_cost #avg_cost += total_cost / self.num_samples * batch_size\n",
    "            avg_reconstruction /= batches\n",
    "            avg_divergence /= batches\n",
    "            avg_cost /= batches\n",
    "            print(\"Epoch: {}, Divergence={}, Reconstruction={}, Cost={}\".format(epoch, avg_divergence, avg_reconstruction, avg_cost))\n",
    "\n",
    "    #x_sample format [1,num_features]\n",
    "    def visualize_generation(self, x_sample):\n",
    "        x_reconstruct = self.sess.run(self.generated, feed_dict={self.x: x_sample})\n",
    "        plt.figure()\n",
    "        plt.subplot(1,2,1)\n",
    "        plt.imshow(x_sample.reshape(28, 28), vmin=0, vmax=1,interpolation='none',cmap=plt.get_cmap('gray'))\n",
    "        plt.subplot(1,2,2)\n",
    "        plt.imshow(x_reconstruct[0].reshape(28, 28), vmin=0, vmax=1,interpolation='none',cmap=plt.get_cmap('gray'))\n",
    "        \n",
    "'''   \n",
    "    def visualize_generation(self, x_sample):\n",
    "        with tf.Session() as sess:\n",
    "            x_reconstruct,z_vals,z_mean_val,z_log_sigma_sq_val = sess.run((self.generated,self.z, \n",
    "                                                                           self.z_mean, self.z_sigma), \n",
    "                                                                           feed_dict={self.x: x_sample})\n",
    "\n",
    "            plt.figure(figsize=(8, 12))\n",
    "            for i in range(5):\n",
    "                plt.subplot(5, 3, 3*i + 1)\n",
    "                plt.imshow(x_sample[i].reshape(28, 28), vmin=0, vmax=1,  interpolation='none',cmap=plt.get_cmap('gray'))\n",
    "                plt.title(\"Test input\")\n",
    "\n",
    "                #plt.colorbar()\n",
    "                plt.subplot(5, 3, 3*i + 2)\n",
    "                plt.scatter(z_vals[:,0],z_vals[:,1], c='gray', alpha=0.5)\n",
    "                plt.scatter(z_mean_val[i,0],z_mean_val[i,1], c='green', s=64, alpha=0.5)\n",
    "                plt.scatter(z_vals[i,0],z_vals[i,1], c='blue', s=16, alpha=0.5)\n",
    "\n",
    "                plt.xlim((-3,3))\n",
    "                plt.ylim((-3,3))\n",
    "                plt.title(\"Latent Space\")\n",
    "\n",
    "                plt.subplot(5, 3, 3*i + 3)\n",
    "                plt.imshow(x_reconstruct[i].reshape(28, 28), vmin=0, vmax=1, interpolation='none',cmap=plt.get_cmap('gray'))\n",
    "                plt.title(\"Reconstruction\")\n",
    "                #plt.colorbar()\n",
    "            plt.tight_layout()\n",
    "'''        "
   ]
  },
  {
   "cell_type": "code",
   "execution_count": 113,
   "metadata": {
    "collapsed": false
   },
   "outputs": [],
   "source": [
    "VAE = VariationalAutoencoder(latent_space_dim = 20)"
   ]
  },
  {
   "cell_type": "code",
   "execution_count": 114,
   "metadata": {
    "collapsed": false
   },
   "outputs": [],
   "source": [
    "VAE.fit(mnist.train.images)"
   ]
  },
  {
   "cell_type": "code",
   "execution_count": 115,
   "metadata": {
    "collapsed": false
   },
   "outputs": [
    {
     "name": "stdout",
     "output_type": "stream",
     "text": [
      "Epoch: 0, Divergence=73.5651754171, Reconstruction=203.966255854, Cost=277.531431691\n",
      "Epoch: 1, Divergence=76.1387107676, Reconstruction=183.460733393, Cost=259.59944261\n",
      "Epoch: 2, Divergence=102.075419523, Reconstruction=184.795110224, Cost=286.870528287\n",
      "Epoch: 3, Divergence=37.5375278161, Reconstruction=171.248760348, Cost=208.786286788\n",
      "Epoch: 4, Divergence=35.7788398222, Reconstruction=164.965698436, Cost=200.744537881\n",
      "Epoch: 5, Divergence=41.9762366191, Reconstruction=164.099601912, Cost=206.075838762\n",
      "Epoch: 6, Divergence=13.4775243829, Reconstruction=153.252354237, Cost=166.72987854\n",
      "Epoch: 7, Divergence=37.3962911883, Reconstruction=165.49715443, Cost=202.893445185\n",
      "Epoch: 8, Divergence=13.7593872781, Reconstruction=146.945507147, Cost=160.704893438\n",
      "Epoch: 9, Divergence=14.7173961015, Reconstruction=144.256509677, Cost=158.973905251\n",
      "Epoch: 10, Divergence=27.0358130576, Reconstruction=144.924583074, Cost=171.960396507\n",
      "Epoch: 11, Divergence=11.9912761359, Reconstruction=129.883024667, Cost=141.87430155\n",
      "Epoch: 12, Divergence=11.9960361637, Reconstruction=125.331961628, Cost=137.327997742\n",
      "Epoch: 13, Divergence=27.5257117011, Reconstruction=142.117222387, Cost=169.642936193\n",
      "Epoch: 14, Divergence=14.6394778009, Reconstruction=149.904160115, Cost=164.543637779\n",
      "Epoch: 15, Divergence=23.0150585573, Reconstruction=141.976786874, Cost=164.991844288\n",
      "Epoch: 16, Divergence=12.2589996806, Reconstruction=125.886738573, Cost=138.145738109\n",
      "Epoch: 17, Divergence=16.2749406416, Reconstruction=127.024352126, Cost=143.299292436\n",
      "Epoch: 18, Divergence=14.5354255763, Reconstruction=129.749269062, Cost=144.284694699\n",
      "Epoch: 19, Divergence=13.00654545, Reconstruction=116.759081587, Cost=129.765627303\n"
     ]
    }
   ],
   "source": [
    "x_sample = mnist.test.next_batch(100)[0]\n",
    "VAE.train(x_sample)"
   ]
  },
  {
   "cell_type": "code",
   "execution_count": 129,
   "metadata": {
    "collapsed": false
   },
   "outputs": [
    {
     "data": {
      "image/png": "[encoded data removed]",
      "text/plain": [
       "<matplotlib.figure.Figure at 0xe71ea50>"
      ]
     },
     "metadata": {},
     "output_type": "display_data"
    }
   ],
   "source": [
    "#d = np.zeros([100,2],dtype='float32')\n",
    "#d[0,] = [1,2]\n",
    "#x_sample[0:1].shape\n",
    "#plt.figure()\n",
    "#plt.subplot(1,2,1)\n",
    "#plt.imshow(x_sample[1].reshape(28, 28), vmin=0, vmax=1,interpolation='none',cmap=plt.get_cmap('gray'))\n",
    "#plt.subplot(1,2,2)\n",
    "image_id = 9\n",
    "VAE.visualize_generation(x_sample[image_id:image_id + 1])"
   ]
  },
  {
   "cell_type": "code",
   "execution_count": 72,
   "metadata": {
    "collapsed": false
   },
   "outputs": [],
   "source": [
    "x_sample = mnist.test.next_batch(10)[0]\n",
    "#print(x_sample[0,:])\n",
    "#VAE.visualize_generation(x_sample)"
   ]
  },
  {
   "cell_type": "code",
   "execution_count": null,
   "metadata": {
    "collapsed": false
   },
   "outputs": [],
   "source": [
    "check_point_file = \"model/vae.ckpt\"\n",
    "saver = tf.train.Saver()\n",
    "with tf.Session() as sess:\n",
    "    saver.restore(sess, check_point_file)\n",
    "    print(\"Model restored.\")"
   ]
  },
  {
   "cell_type": "code",
   "execution_count": null,
   "metadata": {
    "collapsed": true
   },
   "outputs": [],
   "source": []
  }
 ],
 "metadata": {
  "kernelspec": {
   "display_name": "Python 2",
   "language": "python",
   "name": "python2"
  },
  "language_info": {
   "codemirror_mode": {
    "name": "ipython",
    "version": 2
   },
   "file_extension": ".py",
   "mimetype": "text/x-python",
   "name": "python",
   "nbconvert_exporter": "python",
   "pygments_lexer": "ipython2",
   "version": "2.7.6"
  }
 },
 "nbformat": 4,
 "nbformat_minor": 0
}
